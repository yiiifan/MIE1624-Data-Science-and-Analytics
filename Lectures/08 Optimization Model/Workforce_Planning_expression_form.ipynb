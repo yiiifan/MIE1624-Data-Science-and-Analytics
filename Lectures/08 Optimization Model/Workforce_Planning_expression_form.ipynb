{
 "cells": [
  {
   "cell_type": "markdown",
   "metadata": {},
   "source": [
    "<H1>\n",
    "Workforce Planning (Expression Form)\n"
   ]
  },
  {
   "cell_type": "markdown",
   "metadata": {},
   "source": [
    "$$\n",
    " \\begin{array}{rll}\n",
    " \\displaystyle \\min_{x\\in \\mathbb{R}^7} & x_1 + x_2 + x_3 + x_4 + x_5 + x_6 + x_7 \\\\\n",
    " \\,{\\rm s.t.} & \\begin{array}[t]{rcl}\n",
    "            x_1 + x_4 + x_5 + x_6 + x_7 & \\geq & 14 \\\\\n",
    "            x_1 + x_2 + x_5 + x_6 + x_7 & \\geq & 13 \\\\\n",
    "            x_1 + x_2 + x_3 + x_6 + x_7 & \\geq & 15 \\\\\n",
    "            x_1 + x_2 + x_3 + x_4 + x_7 & \\geq & 16 \\\\\n",
    "            x_1 + x_2 + x_3 + x_4 + x_5 & \\geq & 19 \\\\\n",
    "            x_2 + x_3 + x_4 + x_5 + x_6 & \\geq & 18 \\\\\n",
    "            x_3 + x_4 + x_5 + x_6 + x_7 & \\geq & 11 \\\\\n",
    "            x_i & \\geq & 0 ~~~~ \\forall ~i\n",
    "       \\end{array}\n",
    "   \\end{array}\n",
    "$$"
   ]
  },
  {
   "cell_type": "code",
   "execution_count": 1,
   "metadata": {},
   "outputs": [],
   "source": [
    "# Import PuLP modeler functions\n",
    "try:\n",
    "    from pulp import *\n",
    "except:\n",
    "    !pip install pulp\n",
    "    from pulp import *"
   ]
  },
  {
   "cell_type": "code",
   "execution_count": 2,
   "metadata": {},
   "outputs": [],
   "source": [
    "# Create the 'prob' variable to contain the problem data\n",
    "prob = LpProblem(\"Workforce Planning Problem\",LpMinimize)"
   ]
  },
  {
   "cell_type": "code",
   "execution_count": 3,
   "metadata": {},
   "outputs": [
    {
     "data": {
      "text/plain": [
       "1"
      ]
     },
     "execution_count": 3,
     "metadata": {},
     "output_type": "execute_result"
    }
   ],
   "source": [
    "# All variables are created with a lower limit of zero\n",
    "x1=LpVariable(\"x1\",0)\n",
    "x2=LpVariable(\"x2\",0)\n",
    "x3=LpVariable(\"x3\",0)\n",
    "x4=LpVariable(\"x4\",0)\n",
    "x5=LpVariable(\"x5\",0)\n",
    "x6=LpVariable(\"x6\",0)\n",
    "x7=LpVariable(\"x7\",0)\n",
    "\n",
    "# The objective function is added to 'prob' first\n",
    "prob += x1 + x2 + x3 + x4 + x5 + x6 + x7, \"Total number of workers\"\n",
    "\n",
    "# The five constraints are entered\n",
    "prob += x1 + x4 + x5 + x6 + x7 >= 14.0, \"People that work on Monday\"\n",
    "prob += x1 + x2 + x5 + x6 + x7 >= 13.0, \"People that work on Tuesday\"\n",
    "prob += x1 + x2 + x3 + x6 + x7 >= 15.0, \"People that work on Wednesday\"\n",
    "prob += x1 + x2 + x3 + x4 + x7 >= 16.0, \"People that work on Thursday\"\n",
    "prob += x1 + x2 + x3 + x4 + x5 >= 19.0, \"People that work on Friday\"\n",
    "prob += x2 + x3 + x4 + x5 + x6 >= 18.0, \"People that work on Saturday\"\n",
    "prob += x3 + x4 + x5 + x6 + x7 >= 11.0, \"People that work on Sunday\"\n",
    "\n",
    "# The problem data is written to an .lp file\n",
    "#prob.writeLP(\"WorkforceModel.lp\")\n",
    "\n",
    "# The problem is solved using PuLP's choice of Solver\n",
    "prob.solve()"
   ]
  },
  {
   "cell_type": "code",
   "execution_count": 4,
   "metadata": {},
   "outputs": [
    {
     "name": "stdout",
     "output_type": "stream",
     "text": [
      "Status: Optimal\n"
     ]
    }
   ],
   "source": [
    "# The status of the solution is printed to the screen\n",
    "print(\"Status: %s\" % LpStatus[prob.status])"
   ]
  },
  {
   "cell_type": "code",
   "execution_count": 5,
   "metadata": {},
   "outputs": [
    {
     "data": {
      "text/plain": [
       "Workforce Planning Problem:\n",
       "MINIMIZE\n",
       "1*x1 + 1*x2 + 1*x3 + 1*x4 + 1*x5 + 1*x6 + 1*x7 + 0\n",
       "SUBJECT TO\n",
       "People_that_work_on_Monday: x1 + x4 + x5 + x6 + x7 >= 14\n",
       "\n",
       "People_that_work_on_Tuesday: x1 + x2 + x5 + x6 + x7 >= 13\n",
       "\n",
       "People_that_work_on_Wednesday: x1 + x2 + x3 + x6 + x7 >= 15\n",
       "\n",
       "People_that_work_on_Thursday: x1 + x2 + x3 + x4 + x7 >= 16\n",
       "\n",
       "People_that_work_on_Friday: x1 + x2 + x3 + x4 + x5 >= 19\n",
       "\n",
       "People_that_work_on_Saturday: x2 + x3 + x4 + x5 + x6 >= 18\n",
       "\n",
       "People_that_work_on_Sunday: x3 + x4 + x5 + x6 + x7 >= 11\n",
       "\n",
       "VARIABLES\n",
       "x1 Continuous\n",
       "x2 Continuous\n",
       "x3 Continuous\n",
       "x4 Continuous\n",
       "x5 Continuous\n",
       "x6 Continuous\n",
       "x7 Continuous"
      ]
     },
     "execution_count": 5,
     "metadata": {},
     "output_type": "execute_result"
    }
   ],
   "source": [
    "prob"
   ]
  },
  {
   "cell_type": "code",
   "execution_count": 6,
   "metadata": {},
   "outputs": [
    {
     "name": "stdout",
     "output_type": "stream",
     "text": [
      "x1 = 4.00\n",
      "x2 = 7.00\n",
      "x3 = 1.00\n",
      "x4 = 4.00\n",
      "x5 = 3.00\n",
      "x6 = 3.00\n",
      "x7 = 0.00\n"
     ]
    }
   ],
   "source": [
    "# Each of the variables is printed with it's resolved optimum value\n",
    "for v in prob.variables():\n",
    "    print(\"%s = %.2f\" % (v.name, v.varValue))"
   ]
  },
  {
   "cell_type": "code",
   "execution_count": 7,
   "metadata": {},
   "outputs": [
    {
     "name": "stdout",
     "output_type": "stream",
     "text": [
      "Total number of workers = 22.000000\n"
     ]
    }
   ],
   "source": [
    "# The optimised objective function value is printed to the screen\n",
    "print(\"Total number of workers = %f\" % value(prob.objective))"
   ]
  },
  {
   "cell_type": "code",
   "execution_count": 8,
   "metadata": {},
   "outputs": [
    {
     "name": "stdout",
     "output_type": "stream",
     "text": [
      "Name:        x1\n",
      "Value:       4.000000\n",
      "Category:    Continuous\n",
      "Lower Bound: 0.000000\n",
      "Upper Bound: None\n",
      "\n",
      "Name:        x2\n",
      "Value:       7.000000\n",
      "Category:    Continuous\n",
      "Lower Bound: 0.000000\n",
      "Upper Bound: None\n",
      "\n",
      "Name:        x3\n",
      "Value:       1.000000\n",
      "Category:    Continuous\n",
      "Lower Bound: 0.000000\n",
      "Upper Bound: None\n",
      "\n",
      "Name:        x4\n",
      "Value:       4.000000\n",
      "Category:    Continuous\n",
      "Lower Bound: 0.000000\n",
      "Upper Bound: None\n",
      "\n",
      "Name:        x5\n",
      "Value:       3.000000\n",
      "Category:    Continuous\n",
      "Lower Bound: 0.000000\n",
      "Upper Bound: None\n",
      "\n",
      "Name:        x6\n",
      "Value:       3.000000\n",
      "Category:    Continuous\n",
      "Lower Bound: 0.000000\n",
      "Upper Bound: None\n",
      "\n",
      "Name:        x7\n",
      "Value:       0.000000\n",
      "Category:    Continuous\n",
      "Lower Bound: 0.000000\n",
      "Upper Bound: None\n",
      "\n"
     ]
    }
   ],
   "source": [
    "for x in prob.variables():\n",
    "    print (\"Name:        %s\" % x.name)\n",
    "    print (\"Value:       %f\" % x.varValue)\n",
    "    print (\"Category:    %s\" % x.cat)\n",
    "    print (\"Lower Bound: %f\" % x.lowBound)\n",
    "    print (\"Upper Bound: %s\\n\" % x.upBound)"
   ]
  },
  {
   "cell_type": "code",
   "execution_count": 9,
   "metadata": {},
   "outputs": [
    {
     "name": "stdout",
     "output_type": "stream",
     "text": [
      "Name:         People_that_work_on_Monday\n",
      "Constraint:   x1 + x4 + x5 + x6 + x7 >= 14.0\n",
      "Lower Bound:  14.0\n",
      "Upper Bound:  None\n",
      "Value:        0.0\n",
      "Sense:        >=\n",
      "Constant:     -14.0\n",
      "Slack:        -0.0\n",
      "Slack (Feas): 0.0\n",
      " \n",
      "Name:         People_that_work_on_Tuesday\n",
      "Constraint:   x1 + x2 + x5 + x6 + x7 >= 13.0\n",
      "Lower Bound:  13.0\n",
      "Upper Bound:  None\n",
      "Value:        4.0\n",
      "Sense:        >=\n",
      "Constant:     -13.0\n",
      "Slack:        -4.0\n",
      "Slack (Feas): 4.0\n",
      " \n",
      "Name:         People_that_work_on_Wednesday\n",
      "Constraint:   x1 + x2 + x3 + x6 + x7 >= 15.0\n",
      "Lower Bound:  15.0\n",
      "Upper Bound:  None\n",
      "Value:        0.0\n",
      "Sense:        >=\n",
      "Constant:     -15.0\n",
      "Slack:        -0.0\n",
      "Slack (Feas): 0.0\n",
      " \n",
      "Name:         People_that_work_on_Thursday\n",
      "Constraint:   x1 + x2 + x3 + x4 + x7 >= 16.0\n",
      "Lower Bound:  16.0\n",
      "Upper Bound:  None\n",
      "Value:        0.0\n",
      "Sense:        >=\n",
      "Constant:     -16.0\n",
      "Slack:        -0.0\n",
      "Slack (Feas): 0.0\n",
      " \n",
      "Name:         People_that_work_on_Friday\n",
      "Constraint:   x1 + x2 + x3 + x4 + x5 >= 19.0\n",
      "Lower Bound:  19.0\n",
      "Upper Bound:  None\n",
      "Value:        0.0\n",
      "Sense:        >=\n",
      "Constant:     -19.0\n",
      "Slack:        -0.0\n",
      "Slack (Feas): 0.0\n",
      " \n",
      "Name:         People_that_work_on_Saturday\n",
      "Constraint:   x2 + x3 + x4 + x5 + x6 >= 18.0\n",
      "Lower Bound:  18.0\n",
      "Upper Bound:  None\n",
      "Value:        0.0\n",
      "Sense:        >=\n",
      "Constant:     -18.0\n",
      "Slack:        -0.0\n",
      "Slack (Feas): 0.0\n",
      " \n",
      "Name:         People_that_work_on_Sunday\n",
      "Constraint:   x3 + x4 + x5 + x6 + x7 >= 11.0\n",
      "Lower Bound:  11.0\n",
      "Upper Bound:  None\n",
      "Value:        0.0\n",
      "Sense:        >=\n",
      "Constant:     -11.0\n",
      "Slack:        -0.0\n",
      "Slack (Feas): 0.0\n",
      " \n"
     ]
    }
   ],
   "source": [
    "for (name,constraint) in prob.constraints.items():\n",
    "    print (\"Name:        \", name)\n",
    "    print (\"Constraint:  \", constraint)\n",
    "    print (\"Lower Bound: \", constraint.getLb())\n",
    "    print (\"Upper Bound: \", constraint.getUb())\n",
    "    print (\"Value:       \", pulp.value(constraint))\n",
    "    print (\"Sense:       \", pulp.LpConstraintSenses[constraint.sense])\n",
    "    print (\"Constant:    \", constraint.constant)\n",
    "    print (\"Slack:       \", constraint.slack)\n",
    "    print (\"Slack (Feas):\", constraint.slack if constraint.sense < 0 else -constraint.slack)\n",
    "    print (\" \")"
   ]
  },
  {
   "cell_type": "code",
   "execution_count": 10,
   "metadata": {},
   "outputs": [
    {
     "data": {
      "text/plain": [
       "22.0"
      ]
     },
     "execution_count": 10,
     "metadata": {},
     "output_type": "execute_result"
    }
   ],
   "source": [
    "x1.varValue + x2.varValue + x3.varValue + x4.varValue + x5.varValue + x6.varValue + x7.varValue"
   ]
  }
 ],
 "metadata": {
  "anaconda-cloud": {},
  "kernelspec": {
   "display_name": "Python 3",
   "language": "python",
   "name": "python3"
  },
  "language_info": {
   "codemirror_mode": {
    "name": "ipython",
    "version": 3
   },
   "file_extension": ".py",
   "mimetype": "text/x-python",
   "name": "python",
   "nbconvert_exporter": "python",
   "pygments_lexer": "ipython3",
   "version": "3.7.0"
  },
  "widgets": {
   "state": {},
   "version": "1.1.2"
  }
 },
 "nbformat": 4,
 "nbformat_minor": 1
}
