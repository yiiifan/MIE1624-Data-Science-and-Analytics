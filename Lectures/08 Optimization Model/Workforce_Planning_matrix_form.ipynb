{
 "cells": [
  {
   "cell_type": "markdown",
   "metadata": {},
   "source": [
    "<H1>\n",
    "Workforce Planning (Matrix Form)\n"
   ]
  },
  {
   "cell_type": "markdown",
   "metadata": {},
   "source": [
    "Expression form:\n",
    "$$\n",
    " \\begin{array}{rll}\n",
    " \\displaystyle \\min_{x\\in \\mathbb{R}^7} & x_1 + x_2 + x_3 + x_4 + x_5 + x_6 + x_7 \\\\\n",
    " \\,{\\rm s.t.} & \\begin{array}[t]{rcl}\n",
    "            x_1 + x_4 + x_5 + x_6 + x_7 & \\geq & 14 \\\\\n",
    "            x_1 + x_2 + x_5 + x_6 + x_7 & \\geq & 13 \\\\\n",
    "            x_1 + x_2 + x_3 + x_6 + x_7 & \\geq & 15 \\\\\n",
    "            x_1 + x_2 + x_3 + x_4 + x_7 & \\geq & 16 \\\\\n",
    "            x_1 + x_2 + x_3 + x_4 + x_5 & \\geq & 19 \\\\\n",
    "            x_2 + x_3 + x_4 + x_5 + x_6 & \\geq & 18 \\\\\n",
    "            x_3 + x_4 + x_5 + x_6 + x_7 & \\geq & 11 \\\\\n",
    "            x_i & \\geq & 0 ~~~~ \\forall ~i\n",
    "       \\end{array}\n",
    "   \\end{array}\n",
    "$$"
   ]
  },
  {
   "cell_type": "code",
   "execution_count": 1,
   "metadata": {},
   "outputs": [],
   "source": [
    "import numpy as np\n",
    "from scipy.optimize import linprog"
   ]
  },
  {
   "cell_type": "markdown",
   "metadata": {},
   "source": [
    "Matrix form:\n",
    "$$\n",
    " \\begin{array}{rll}\n",
    " \\displaystyle \\min_{x\\in \\mathbb{R}^7} & c^T x \\\\\n",
    " \\,{\\rm s.t.} & \\begin{array}[t]{rcl}\n",
    "            A\\_ub \\cdot x & \\leq & b\\_ub \\\\\n",
    "            A\\_eq \\cdot x & = & b\\_eq\n",
    "               \\end{array}\n",
    "   \\end{array}\n",
    "$$"
   ]
  },
  {
   "cell_type": "code",
   "execution_count": 2,
   "metadata": {},
   "outputs": [],
   "source": [
    "A_ub = np.array([\n",
    "[-1,  0,  0, -1, -1, -1, -1],\n",
    "[-1, -1,  0,  0, -1, -1, -1],\n",
    "[-1, -1, -1,  0,  0, -1, -1],\n",
    "[-1, -1, -1, -1,  0,  0, -1],\n",
    "[-1, -1, -1, -1, -1,  0,  0],\n",
    "[ 0, -1, -1, -1, -1, -1,  0],\n",
    "[ 0,  0, -1, -1, -1, -1, -1]])\n",
    "\n",
    "b_ub = np.array([-14, -13, -15, -16, -19, -18, -11])\n",
    "\n",
    "c = np.array([1, 1, 1, 1, 1, 1, 1])\n",
    "\n",
    "res = linprog(c, A_eq=None, b_eq=None, A_ub=A_ub, b_ub=b_ub, \n",
    "              bounds=(0, None), method='simplex')"
   ]
  },
  {
   "cell_type": "code",
   "execution_count": 3,
   "metadata": {
    "scrolled": true
   },
   "outputs": [
    {
     "name": "stdout",
     "output_type": "stream",
     "text": [
      "Optimal value: 22.00\n",
      "x: [4. 7. 1. 4. 3. 3. 0.]\n"
     ]
    }
   ],
   "source": [
    "print (\"Optimal value: %.2f\" % res.fun)\n",
    "print ('x:', res.x)"
   ]
  },
  {
   "cell_type": "code",
   "execution_count": 4,
   "metadata": {},
   "outputs": [
    {
     "data": {
      "text/plain": [
       "22.0"
      ]
     },
     "execution_count": 4,
     "metadata": {},
     "output_type": "execute_result"
    }
   ],
   "source": [
    "sum(res.x)"
   ]
  },
  {
   "cell_type": "code",
   "execution_count": 5,
   "metadata": {},
   "outputs": [
    {
     "data": {
      "text/plain": [
       "array([14., 17., 15., 16., 19., 18., 11.])"
      ]
     },
     "execution_count": 5,
     "metadata": {},
     "output_type": "execute_result"
    }
   ],
   "source": [
    "np.dot(-A_ub,res.x)"
   ]
  }
 ],
 "metadata": {
  "anaconda-cloud": {},
  "kernelspec": {
   "display_name": "Python 3",
   "language": "python",
   "name": "python3"
  },
  "language_info": {
   "codemirror_mode": {
    "name": "ipython",
    "version": 3
   },
   "file_extension": ".py",
   "mimetype": "text/x-python",
   "name": "python",
   "nbconvert_exporter": "python",
   "pygments_lexer": "ipython3",
   "version": "3.7.0"
  },
  "widgets": {
   "state": {},
   "version": "1.1.2"
  }
 },
 "nbformat": 4,
 "nbformat_minor": 1
}
