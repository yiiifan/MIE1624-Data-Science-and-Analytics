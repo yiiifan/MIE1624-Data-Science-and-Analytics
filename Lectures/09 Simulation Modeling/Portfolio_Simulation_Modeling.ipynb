{
 "cells": [
  {
   "cell_type": "markdown",
   "metadata": {},
   "source": [
    "# Portfolio Simulation Modeling"
   ]
  },
  {
   "cell_type": "markdown",
   "metadata": {},
   "source": [
    "## Download Data\n",
    "#### Download S&P 500 index data from Yahoo Finance"
   ]
  },
  {
   "cell_type": "code",
   "execution_count": 1,
   "metadata": {
    "scrolled": true
   },
   "outputs": [
    {
     "ename": "ModuleNotFoundError",
     "evalue": "No module named 'pandas_datareader'",
     "output_type": "error",
     "traceback": [
      "\u001b[0;31m---------------------------------------------------------------------------\u001b[0m",
      "\u001b[0;31mModuleNotFoundError\u001b[0m                       Traceback (most recent call last)",
      "\u001b[0;32m<ipython-input-1-2fd7d8a1d819>\u001b[0m in \u001b[0;36m<module>\u001b[0;34m()\u001b[0m\n\u001b[1;32m      1\u001b[0m \u001b[0;32mimport\u001b[0m \u001b[0mpandas\u001b[0m \u001b[0;32mas\u001b[0m \u001b[0mpd\u001b[0m\u001b[0;34m\u001b[0m\u001b[0m\n\u001b[0;32m----> 2\u001b[0;31m \u001b[0;32mimport\u001b[0m \u001b[0mpandas_datareader\u001b[0m \u001b[0;32mas\u001b[0m \u001b[0mweb\u001b[0m\u001b[0;34m\u001b[0m\u001b[0m\n\u001b[0m\u001b[1;32m      3\u001b[0m \u001b[0;32mimport\u001b[0m \u001b[0mmatplotlib\u001b[0m\u001b[0;34m.\u001b[0m\u001b[0mpyplot\u001b[0m \u001b[0;32mas\u001b[0m \u001b[0mplt\u001b[0m\u001b[0;34m\u001b[0m\u001b[0m\n\u001b[1;32m      4\u001b[0m \u001b[0;32mimport\u001b[0m \u001b[0mdatetime\u001b[0m \u001b[0;32mas\u001b[0m \u001b[0mdatetime\u001b[0m\u001b[0;34m\u001b[0m\u001b[0m\n\u001b[1;32m      5\u001b[0m \u001b[0;32mfrom\u001b[0m \u001b[0mnumpy\u001b[0m \u001b[0;32mimport\u001b[0m \u001b[0;34m*\u001b[0m\u001b[0;34m\u001b[0m\u001b[0m\n",
      "\u001b[0;31mModuleNotFoundError\u001b[0m: No module named 'pandas_datareader'"
     ]
    }
   ],
   "source": [
    "import pandas as pd\n",
    "import pandas_datareader as web\n",
    "import matplotlib.pyplot as plt\n",
    "import datetime as datetime\n",
    "from numpy import *\n",
    "%matplotlib inline"
   ]
  },
  {
   "cell_type": "markdown",
   "metadata": {},
   "source": [
    "Set start date, end date and data source ('Yahoo Finance', 'Google Finance', etc.). Download S&P 500 index data from Yahoo Finance."
   ]
  },
  {
   "cell_type": "code",
   "execution_count": 12,
   "metadata": {
    "scrolled": true
   },
   "outputs": [
    {
     "data": {
      "text/html": [
       "<div>\n",
       "<style scoped>\n",
       "    .dataframe tbody tr th:only-of-type {\n",
       "        vertical-align: middle;\n",
       "    }\n",
       "\n",
       "    .dataframe tbody tr th {\n",
       "        vertical-align: top;\n",
       "    }\n",
       "\n",
       "    .dataframe thead th {\n",
       "        text-align: right;\n",
       "    }\n",
       "</style>\n",
       "<table border=\"1\" class=\"dataframe\">\n",
       "  <thead>\n",
       "    <tr style=\"text-align: right;\">\n",
       "      <th></th>\n",
       "      <th>Date</th>\n",
       "      <th>Open</th>\n",
       "      <th>High</th>\n",
       "      <th>Low</th>\n",
       "      <th>Close</th>\n",
       "      <th>Adj Close</th>\n",
       "      <th>Volume</th>\n",
       "    </tr>\n",
       "    <tr>\n",
       "      <th>Date</th>\n",
       "      <th></th>\n",
       "      <th></th>\n",
       "      <th></th>\n",
       "      <th></th>\n",
       "      <th></th>\n",
       "      <th></th>\n",
       "      <th></th>\n",
       "    </tr>\n",
       "  </thead>\n",
       "  <tbody>\n",
       "    <tr>\n",
       "      <th>1976-01-02</th>\n",
       "      <td>1976-01-02</td>\n",
       "      <td>90.190002</td>\n",
       "      <td>91.180000</td>\n",
       "      <td>89.809998</td>\n",
       "      <td>90.900002</td>\n",
       "      <td>90.900002</td>\n",
       "      <td>10300000.0</td>\n",
       "    </tr>\n",
       "    <tr>\n",
       "      <th>1976-01-05</th>\n",
       "      <td>1976-01-05</td>\n",
       "      <td>90.900002</td>\n",
       "      <td>92.839996</td>\n",
       "      <td>90.849998</td>\n",
       "      <td>92.580002</td>\n",
       "      <td>92.580002</td>\n",
       "      <td>21960000.0</td>\n",
       "    </tr>\n",
       "    <tr>\n",
       "      <th>1976-01-06</th>\n",
       "      <td>1976-01-06</td>\n",
       "      <td>92.580002</td>\n",
       "      <td>94.180000</td>\n",
       "      <td>92.370003</td>\n",
       "      <td>93.529999</td>\n",
       "      <td>93.529999</td>\n",
       "      <td>31270000.0</td>\n",
       "    </tr>\n",
       "    <tr>\n",
       "      <th>1976-01-07</th>\n",
       "      <td>1976-01-07</td>\n",
       "      <td>93.529999</td>\n",
       "      <td>95.150002</td>\n",
       "      <td>92.910004</td>\n",
       "      <td>93.949997</td>\n",
       "      <td>93.949997</td>\n",
       "      <td>33170000.0</td>\n",
       "    </tr>\n",
       "    <tr>\n",
       "      <th>1976-01-08</th>\n",
       "      <td>1976-01-08</td>\n",
       "      <td>93.949997</td>\n",
       "      <td>95.470001</td>\n",
       "      <td>93.410004</td>\n",
       "      <td>94.580002</td>\n",
       "      <td>94.580002</td>\n",
       "      <td>29030000.0</td>\n",
       "    </tr>\n",
       "  </tbody>\n",
       "</table>\n",
       "</div>"
      ],
      "text/plain": [
       "                  Date       Open       High        Low      Close  Adj Close  \\\n",
       "Date                                                                            \n",
       "1976-01-02  1976-01-02  90.190002  91.180000  89.809998  90.900002  90.900002   \n",
       "1976-01-05  1976-01-05  90.900002  92.839996  90.849998  92.580002  92.580002   \n",
       "1976-01-06  1976-01-06  92.580002  94.180000  92.370003  93.529999  93.529999   \n",
       "1976-01-07  1976-01-07  93.529999  95.150002  92.910004  93.949997  93.949997   \n",
       "1976-01-08  1976-01-08  93.949997  95.470001  93.410004  94.580002  94.580002   \n",
       "\n",
       "                Volume  \n",
       "Date                    \n",
       "1976-01-02  10300000.0  \n",
       "1976-01-05  21960000.0  \n",
       "1976-01-06  31270000.0  \n",
       "1976-01-07  33170000.0  \n",
       "1976-01-08  29030000.0  "
      ]
     },
     "execution_count": 12,
     "metadata": {},
     "output_type": "execute_result"
    }
   ],
   "source": [
    "start_date = datetime.date(1976,1,1)\n",
    "end_date = datetime.date(2017,1,1)\n",
    "# Download S&P 500 index data\n",
    "try:\n",
    "    SnP500_Ddata = web.DataReader('^GSPC','yahoo',start_date,end_date)\n",
    "except:\n",
    "    SnP500_Ddata = pd.read_csv(\"http://analytics.romanko.ca/data/SP500_hist.csv\")\n",
    "    SnP500_Ddata.index = pd.to_datetime(SnP500_Ddata.Date)\n",
    "SnP500_Ddata.head()"
   ]
  },
  {
   "cell_type": "markdown",
   "metadata": {},
   "source": [
    "#### Transform daily data into annual data:"
   ]
  },
  {
   "cell_type": "code",
   "execution_count": 13,
   "metadata": {
    "scrolled": true
   },
   "outputs": [
    {
     "data": {
      "text/html": [
       "<div>\n",
       "<style scoped>\n",
       "    .dataframe tbody tr th:only-of-type {\n",
       "        vertical-align: middle;\n",
       "    }\n",
       "\n",
       "    .dataframe tbody tr th {\n",
       "        vertical-align: top;\n",
       "    }\n",
       "\n",
       "    .dataframe thead th {\n",
       "        text-align: right;\n",
       "    }\n",
       "</style>\n",
       "<table border=\"1\" class=\"dataframe\">\n",
       "  <thead>\n",
       "    <tr style=\"text-align: right;\">\n",
       "      <th></th>\n",
       "      <th>Volume</th>\n",
       "      <th>Adj Close</th>\n",
       "    </tr>\n",
       "    <tr>\n",
       "      <th>Date</th>\n",
       "      <th></th>\n",
       "      <th></th>\n",
       "    </tr>\n",
       "  </thead>\n",
       "  <tbody>\n",
       "    <tr>\n",
       "      <th>2012-12-31</th>\n",
       "      <td>3.204330e+09</td>\n",
       "      <td>1426.189941</td>\n",
       "    </tr>\n",
       "    <tr>\n",
       "      <th>2013-12-31</th>\n",
       "      <td>2.312840e+09</td>\n",
       "      <td>1848.359985</td>\n",
       "    </tr>\n",
       "    <tr>\n",
       "      <th>2014-12-31</th>\n",
       "      <td>2.606070e+09</td>\n",
       "      <td>2058.899902</td>\n",
       "    </tr>\n",
       "    <tr>\n",
       "      <th>2015-12-31</th>\n",
       "      <td>2.655330e+09</td>\n",
       "      <td>2043.939941</td>\n",
       "    </tr>\n",
       "    <tr>\n",
       "      <th>2016-12-31</th>\n",
       "      <td>2.670900e+09</td>\n",
       "      <td>2238.830078</td>\n",
       "    </tr>\n",
       "  </tbody>\n",
       "</table>\n",
       "</div>"
      ],
      "text/plain": [
       "                  Volume    Adj Close\n",
       "Date                                 \n",
       "2012-12-31  3.204330e+09  1426.189941\n",
       "2013-12-31  2.312840e+09  1848.359985\n",
       "2014-12-31  2.606070e+09  2058.899902\n",
       "2015-12-31  2.655330e+09  2043.939941\n",
       "2016-12-31  2.670900e+09  2238.830078"
      ]
     },
     "execution_count": 13,
     "metadata": {},
     "output_type": "execute_result"
    }
   ],
   "source": [
    "# Create a time-series of annual data points from daily data\n",
    "SnP500_Adata = SnP500_Ddata.resample('A').last()\n",
    "SnP500_Adata[['Volume','Adj Close']].tail()"
   ]
  },
  {
   "cell_type": "markdown",
   "metadata": {},
   "source": [
    "#### Compute annual return of S&P 500 index:"
   ]
  },
  {
   "cell_type": "code",
   "execution_count": 14,
   "metadata": {
    "scrolled": true
   },
   "outputs": [
    {
     "name": "stdout",
     "output_type": "stream",
     "text": [
      "Date\n",
      "1977-12-31   -0.115020\n",
      "1978-12-31    0.010620\n",
      "1979-12-31    0.123088\n",
      "1980-12-31    0.257736\n",
      "1981-12-31   -0.097304\n",
      "1982-12-31    0.147613\n",
      "1983-12-31    0.172710\n",
      "1984-12-31    0.014006\n",
      "1985-12-31    0.263334\n",
      "1986-12-31    0.146204\n",
      "1987-12-31    0.020275\n",
      "1988-12-31    0.124008\n",
      "1989-12-31    0.272505\n",
      "1990-12-31   -0.065591\n",
      "1991-12-31    0.263067\n",
      "1992-12-31    0.044643\n",
      "1993-12-31    0.070552\n",
      "1994-12-31   -0.015393\n",
      "1995-12-31    0.341107\n",
      "1996-12-31    0.202637\n",
      "1997-12-31    0.310082\n",
      "1998-12-31    0.266686\n",
      "1999-12-31    0.195260\n",
      "2000-12-31   -0.101392\n",
      "2001-12-31   -0.130427\n",
      "2002-12-31   -0.233660\n",
      "2003-12-31    0.263804\n",
      "2004-12-31    0.089935\n",
      "2005-12-31    0.030010\n",
      "2006-12-31    0.136194\n",
      "2007-12-31    0.035296\n",
      "2008-12-31   -0.384858\n",
      "2009-12-31    0.234542\n",
      "2010-12-31    0.127827\n",
      "2011-12-31   -0.000032\n",
      "2012-12-31    0.134057\n",
      "2013-12-31    0.296012\n",
      "2014-12-31    0.113906\n",
      "2015-12-31   -0.007266\n",
      "2016-12-31    0.095350\n",
      "Freq: A-DEC, Name: returns, dtype: float64\n"
     ]
    }
   ],
   "source": [
    "SnP500_Adata[['Adj Close']] = SnP500_Adata[['Adj Close']].apply(pd.to_numeric, errors='ignore')\n",
    "SnP500_Adata['returns'] = SnP500_Adata['Adj Close'] / SnP500_Adata['Adj Close'].shift(1) -1\n",
    "SnP500_Adata = SnP500_Adata.dropna()\n",
    "print (SnP500_Adata['returns'])"
   ]
  },
  {
   "cell_type": "markdown",
   "metadata": {},
   "source": [
    "#### Compute average annual return and standard deviation of return for S&P 500 index:"
   ]
  },
  {
   "cell_type": "code",
   "execution_count": 15,
   "metadata": {},
   "outputs": [
    {
     "name": "stdout",
     "output_type": "stream",
     "text": [
      "S&P 500 average return = 9.13031%, st. dev  = 15.8073%\n"
     ]
    }
   ],
   "source": [
    "SnP500_mean_ret = float(SnP500_Adata[['returns']].mean())\n",
    "SnP500_std_ret = float(SnP500_Adata[['returns']].std())\n",
    "print (\"S&P 500 average return = %g%%, st. dev  = %g%%\" % (100*SnP500_mean_ret, 100*SnP500_std_ret))"
   ]
  },
  {
   "cell_type": "markdown",
   "metadata": {},
   "source": [
    "## Simulation Example 1"
   ]
  },
  {
   "cell_type": "markdown",
   "metadata": {},
   "source": [
    "We want to invest $\\$$1000 in the US stock market for 1 year: $v_0 = 1000$"
   ]
  },
  {
   "cell_type": "code",
   "execution_count": 16,
   "metadata": {},
   "outputs": [],
   "source": [
    "v0 = 1000 # Initial capital"
   ]
  },
  {
   "cell_type": "markdown",
   "metadata": {},
   "source": [
    "In our example we assume that the return of the market over the next year follow Normal distribution.\n",
    "\n",
    "Between 1977 and 2014, S&P 500 returned 9.38% per year on average with a standard deviation of 16.15%.\n",
    "\n",
    "Generate 100 scenarios for the market return over the next year (draw 100 random numbers from a Normal distribution with mean 9.38% and standard deviation of 16.15%):"
   ]
  },
  {
   "cell_type": "code",
   "execution_count": 17,
   "metadata": {},
   "outputs": [
    {
     "data": {
      "text/plain": [
       "array([ 0.07005763,  0.13278492,  0.09554474,  0.05232555,  0.0458983 ,\n",
       "        0.21488586, -0.19185167,  0.33445542,  0.02243753, -0.05461579,\n",
       "        0.40379372,  0.05026023,  0.00573897,  0.12937681,  0.16500361,\n",
       "       -0.05083854,  0.37399512,  0.20825113, -0.06442099, -0.03059724,\n",
       "       -0.04502906,  0.00514786, -0.03291499,  0.21655896,  0.24468175,\n",
       "        0.16767454,  0.13452106, -0.21257654,  0.25473433, -0.07313489,\n",
       "       -0.02030177,  0.15315151,  0.04312641,  0.28548835,  0.15003868,\n",
       "       -0.18774056,  0.20444353,  0.10004329,  0.22976544,  0.24807349,\n",
       "        0.17346155,  0.15494601,  0.16240995,  0.08247279,  0.14651124,\n",
       "       -0.10136047,  0.16220603, -0.11840561,  0.03053345, -0.02081243,\n",
       "       -0.35882582, -0.03177817,  0.02825045,  0.25000806,  0.35806954,\n",
       "        0.07361534,  0.1067635 ,  0.26116309,  0.05193554,  0.11827635,\n",
       "       -0.19849718, -0.15891152,  0.03787625, -0.00575148,  0.15321254,\n",
       "        0.11994688,  0.01996284,  0.02791317,  0.24781439,  0.3639169 ,\n",
       "        0.20560858, -0.06314583,  0.07167032,  0.02553427,  0.26870949,\n",
       "        0.21195053, -0.06392761,  0.35721081,  0.01526575,  0.1854491 ,\n",
       "        0.14410349,  0.03058787,  0.34085782,  0.03476521, -0.16003394,\n",
       "        0.04390977,  0.31097465, -0.03041808,  0.06641559,  0.18034021,\n",
       "        0.16360989, -0.13751471,  0.08342448, -0.01479397,  0.38804466,\n",
       "        0.08194769,  0.30883705,  0.1458858 , -0.0832687 , -0.19018029])"
      ]
     },
     "execution_count": 17,
     "metadata": {},
     "output_type": "execute_result"
    }
   ],
   "source": [
    "Ns = 100 # Number of scenarios\n",
    "r01 = random.normal(SnP500_mean_ret, SnP500_std_ret, Ns)\n",
    "r01"
   ]
  },
  {
   "cell_type": "markdown",
   "metadata": {},
   "source": [
    "Value of investment at the end of year 1:\n",
    "$v_1 = v_0 + r_{0,1}\\cdot v_0 = (1 + r_{0,1})\\cdot v_0$"
   ]
  },
  {
   "cell_type": "code",
   "execution_count": 18,
   "metadata": {},
   "outputs": [
    {
     "data": {
      "text/plain": [
       "array([1070.05762694, 1132.7849178 , 1095.54474141, 1052.3255491 ,\n",
       "       1045.8982965 , 1214.88585846,  808.14833221, 1334.45541946,\n",
       "       1022.43753341,  945.38420835, 1403.79372172, 1050.26023411,\n",
       "       1005.73896836, 1129.37681143, 1165.00360658,  949.16145893,\n",
       "       1373.99511736, 1208.25112967,  935.57901145,  969.40276107,\n",
       "        954.97094188, 1005.14785871,  967.08501292, 1216.5589559 ,\n",
       "       1244.68174522, 1167.67453935, 1134.52106417,  787.42346327,\n",
       "       1254.73432515,  926.86511119,  979.69823435, 1153.15151368,\n",
       "       1043.1264107 , 1285.48835361, 1150.03867937,  812.25943746,\n",
       "       1204.44352648, 1100.04328953, 1229.76543967, 1248.07349093,\n",
       "       1173.46155424, 1154.94600637, 1162.40994707, 1082.47279412,\n",
       "       1146.51123579,  898.63953302, 1162.2060255 ,  881.59438737,\n",
       "       1030.53345056,  979.18757089,  641.17417897,  968.22182839,\n",
       "       1028.25045112, 1250.00806285, 1358.06954488, 1073.61533651,\n",
       "       1106.76350007, 1261.16308651, 1051.93554108, 1118.2763489 ,\n",
       "        801.50281936,  841.08848437, 1037.87625172,  994.24851785,\n",
       "       1153.21253555, 1119.94687631, 1019.96283988, 1027.91317369,\n",
       "       1247.81439317, 1363.9168973 , 1205.6085814 ,  936.85417113,\n",
       "       1071.6703162 , 1025.53426938, 1268.70949107, 1211.95052798,\n",
       "        936.07239437, 1357.21081239, 1015.26575366, 1185.4490995 ,\n",
       "       1144.1034881 , 1030.58787223, 1340.85782019, 1034.76521386,\n",
       "        839.96606209, 1043.90976964, 1310.97464881,  969.58191732,\n",
       "       1066.41558991, 1180.34020926, 1163.60988948,  862.4852911 ,\n",
       "       1083.42448004,  985.20603107, 1388.04466377, 1081.9476899 ,\n",
       "       1308.83705254, 1145.88579535,  916.73129902,  809.8197136 ])"
      ]
     },
     "execution_count": 18,
     "metadata": {},
     "output_type": "execute_result"
    }
   ],
   "source": [
    "# Distribution of value at the end of year 1\n",
    "v1 = (r01 + 1) * v0\n",
    "v1"
   ]
  },
  {
   "cell_type": "markdown",
   "metadata": {},
   "source": [
    "Mean:"
   ]
  },
  {
   "cell_type": "code",
   "execution_count": 19,
   "metadata": {},
   "outputs": [
    {
     "data": {
      "text/plain": [
       "1088.3697978556897"
      ]
     },
     "execution_count": 19,
     "metadata": {},
     "output_type": "execute_result"
    }
   ],
   "source": [
    "mean(v1)"
   ]
  },
  {
   "cell_type": "markdown",
   "metadata": {},
   "source": [
    "Standard deviation: "
   ]
  },
  {
   "cell_type": "code",
   "execution_count": 20,
   "metadata": {},
   "outputs": [
    {
     "data": {
      "text/plain": [
       "153.17931093479726"
      ]
     },
     "execution_count": 20,
     "metadata": {},
     "output_type": "execute_result"
    }
   ],
   "source": [
    "std(v1)"
   ]
  },
  {
   "cell_type": "markdown",
   "metadata": {},
   "source": [
    "Minimum, maximum: "
   ]
  },
  {
   "cell_type": "code",
   "execution_count": 21,
   "metadata": {},
   "outputs": [
    {
     "data": {
      "text/plain": [
       "(641.1741789744436, 1403.7937217185429)"
      ]
     },
     "execution_count": 21,
     "metadata": {},
     "output_type": "execute_result"
    }
   ],
   "source": [
    "min(v1), max(v1)"
   ]
  },
  {
   "cell_type": "markdown",
   "metadata": {},
   "source": [
    "Persentiles\n",
    "\n",
    "5th percentile, median, 95th percentile:"
   ]
  },
  {
   "cell_type": "code",
   "execution_count": 22,
   "metadata": {},
   "outputs": [
    {
     "data": {
      "text/plain": [
       "array([ 812.13745127, 1082.21024201, 1357.25374901])"
      ]
     },
     "execution_count": 22,
     "metadata": {},
     "output_type": "execute_result"
    }
   ],
   "source": [
    "percentile(v1, [5, 50,95])"
   ]
  },
  {
   "cell_type": "markdown",
   "metadata": {},
   "source": [
    "Alternative way to compute percentiles\n",
    "\n",
    "5th percentile, median, 95th percentile:"
   ]
  },
  {
   "cell_type": "code",
   "execution_count": 23,
   "metadata": {},
   "outputs": [
    {
     "data": {
      "text/plain": [
       "(809.8197135954786, 1081.9476898969592, 1357.210812386954)"
      ]
     },
     "execution_count": 23,
     "metadata": {},
     "output_type": "execute_result"
    }
   ],
   "source": [
    "sortedScen = sorted(v1)   # Sort scenarios\n",
    "sortedScen[5-1], sortedScen[50-1], sortedScen[95-1]"
   ]
  },
  {
   "cell_type": "markdown",
   "metadata": {},
   "source": [
    "Plot a histogram of the distribution of outcomes for v1:"
   ]
  },
  {
   "cell_type": "code",
   "execution_count": 24,
   "metadata": {
    "scrolled": true
   },
   "outputs": [
    {
     "data": {
      "image/png": "[encoded data removed]",
      "text/plain": [
       "<Figure size 432x288 with 1 Axes>"
      ]
     },
     "metadata": {},
     "output_type": "display_data"
    }
   ],
   "source": [
    "hist, bins = histogram(v1)\n",
    "positions = (bins[:-1] + bins[1:]) / 2\n",
    "plt.bar(positions, hist, width=60)\n",
    "plt.xlabel('portfolio value after 1 year')\n",
    "plt.ylabel('frequency')\n",
    "plt.show()"
   ]
  },
  {
   "cell_type": "markdown",
   "metadata": {},
   "source": [
    "Simulated paths over time:"
   ]
  },
  {
   "cell_type": "code",
   "execution_count": 25,
   "metadata": {},
   "outputs": [
    {
     "data": {
      "image/png": "[encoded data removed]",
      "text/plain": [
       "<Figure size 432x288 with 1 Axes>"
      ]
     },
     "metadata": {},
     "output_type": "display_data"
    }
   ],
   "source": [
    "# Plot simulated paths over time\n",
    "for res in v1:\n",
    "    plt.plot((0,1), (v0, res))\n",
    "plt.xlabel('time step')\n",
    "plt.ylabel('portfolio value')\n",
    "plt.show()"
   ]
  },
  {
   "cell_type": "markdown",
   "metadata": {
    "collapsed": true
   },
   "source": [
    "# Simulation Example 2"
   ]
  },
  {
   "cell_type": "markdown",
   "metadata": {
    "collapsed": true
   },
   "source": [
    "You are planning for retirement and decide to invest in the market for the next 30 years (instead of only the next year as in example 1).\n",
    "\n",
    "Assume that every year your investment returns from investing into the        S&P 500 will follow a Normal distribution with the mean and standard deviation as in example 1.\n",
    "\n",
    "Your initial capital is still \\$1000"
   ]
  },
  {
   "cell_type": "code",
   "execution_count": 26,
   "metadata": {},
   "outputs": [],
   "source": [
    "v0 = 1000 # Initial capital"
   ]
  },
  {
   "cell_type": "markdown",
   "metadata": {},
   "source": [
    "Between 1977 and 2014, S&P 500 returned 9.38% per year on average with a standard deviation of 16.15%\n",
    "Simulate 30 columns of 100 observations each of single period returns:"
   ]
  },
  {
   "cell_type": "code",
   "execution_count": 27,
   "metadata": {},
   "outputs": [
    {
     "data": {
      "text/plain": [
       "array([[ 0.14910611,  0.08250007,  0.22326469, ...,  0.11156984,\n",
       "        -0.18787919,  0.15308053],\n",
       "       [ 0.13934298,  0.15422091, -0.16638336, ...,  0.05811079,\n",
       "         0.17985799,  0.08923506],\n",
       "       [ 0.19005931,  0.11251132,  0.30649971, ...,  0.23102326,\n",
       "         0.2354716 ,  0.12406269],\n",
       "       ...,\n",
       "       [ 0.02863671,  0.05170927, -0.02362413, ...,  0.29609033,\n",
       "        -0.03640802,  0.27653302],\n",
       "       [-0.07497739,  0.03937957,  0.01492156, ..., -0.0328706 ,\n",
       "         0.00503426, -0.17168734],\n",
       "       [ 0.05112805,  0.08097001,  0.14647411, ...,  0.05685861,\n",
       "        -0.03943802,  0.03810343]])"
      ]
     },
     "execution_count": 27,
     "metadata": {},
     "output_type": "execute_result"
    }
   ],
   "source": [
    "r_speriod30  = random.normal(SnP500_mean_ret, SnP500_std_ret, (Ns, 30))\n",
    "r_speriod30"
   ]
  },
  {
   "cell_type": "markdown",
   "metadata": {},
   "source": [
    "Compute and plot $v_{30}$\n"
   ]
  },
  {
   "cell_type": "code",
   "execution_count": 28,
   "metadata": {},
   "outputs": [
    {
     "data": {
      "image/png": "[encoded data removed]",
      "text/plain": [
       "<Figure size 432x288 with 1 Axes>"
      ]
     },
     "metadata": {},
     "output_type": "display_data"
    }
   ],
   "source": [
    "v30 = prod(1 + r_speriod30 , 1) * v0\n",
    "\n",
    "hist, bins = histogram(v30)\n",
    "positions = (bins[:-1] + bins[1:]) / 2\n",
    "width = (bins[1] - bins[0]) * 0.8\n",
    "plt.bar(positions, hist, width=width)\n",
    "plt.xlabel('portfolio value after 30 years')\n",
    "plt.ylabel('frequency')\n",
    "plt.show()"
   ]
  },
  {
   "cell_type": "markdown",
   "metadata": {},
   "source": [
    "Simulated paths over time:"
   ]
  },
  {
   "cell_type": "code",
   "execution_count": 29,
   "metadata": {},
   "outputs": [
    {
     "data": {
      "image/png": "[encoded data removed]",
      "text/plain": [
       "<Figure size 432x288 with 1 Axes>"
      ]
     },
     "metadata": {},
     "output_type": "display_data"
    }
   ],
   "source": [
    "for scenario in r_speriod30:\n",
    "    y = [prod(1 + scenario[0:i]) * v0 for i in range(0,31)]\n",
    "    plt.plot(range(0,31), y)\n",
    "plt.xlabel('time step')\n",
    "plt.ylabel('portfolio value')\n",
    "plt.show()"
   ]
  },
  {
   "cell_type": "markdown",
   "metadata": {},
   "source": [
    "## Simulation Example 3\n",
    "#### Download US Treasury bill data from Federal Reserve:"
   ]
  },
  {
   "cell_type": "code",
   "execution_count": 30,
   "metadata": {
    "scrolled": true
   },
   "outputs": [
    {
     "data": {
      "text/html": [
       "<div>\n",
       "<style scoped>\n",
       "    .dataframe tbody tr th:only-of-type {\n",
       "        vertical-align: middle;\n",
       "    }\n",
       "\n",
       "    .dataframe tbody tr th {\n",
       "        vertical-align: top;\n",
       "    }\n",
       "\n",
       "    .dataframe thead th {\n",
       "        text-align: right;\n",
       "    }\n",
       "</style>\n",
       "<table border=\"1\" class=\"dataframe\">\n",
       "  <thead>\n",
       "    <tr style=\"text-align: right;\">\n",
       "      <th></th>\n",
       "      <th>DTB3</th>\n",
       "    </tr>\n",
       "    <tr>\n",
       "      <th>DATE</th>\n",
       "      <th></th>\n",
       "    </tr>\n",
       "  </thead>\n",
       "  <tbody>\n",
       "    <tr>\n",
       "      <th>1977-01-03</th>\n",
       "      <td>4.39</td>\n",
       "    </tr>\n",
       "    <tr>\n",
       "      <th>1977-01-04</th>\n",
       "      <td>4.49</td>\n",
       "    </tr>\n",
       "    <tr>\n",
       "      <th>1977-01-05</th>\n",
       "      <td>4.47</td>\n",
       "    </tr>\n",
       "    <tr>\n",
       "      <th>1977-01-06</th>\n",
       "      <td>4.50</td>\n",
       "    </tr>\n",
       "    <tr>\n",
       "      <th>1977-01-07</th>\n",
       "      <td>4.62</td>\n",
       "    </tr>\n",
       "  </tbody>\n",
       "</table>\n",
       "</div>"
      ],
      "text/plain": [
       "            DTB3\n",
       "DATE            \n",
       "1977-01-03  4.39\n",
       "1977-01-04  4.49\n",
       "1977-01-05  4.47\n",
       "1977-01-06  4.50\n",
       "1977-01-07  4.62"
      ]
     },
     "execution_count": 30,
     "metadata": {},
     "output_type": "execute_result"
    }
   ],
   "source": [
    "# Download 3-month T-bill rates from Federal Reserve\n",
    "start_date_b = datetime.date(1977,1,1)\n",
    "end_date_b = datetime.date(2017,1,1)\n",
    "TBill_Ddata = web.DataReader('DTB3','fred',start_date_b,end_date_b)\n",
    "TBill_Ddata.head()"
   ]
  },
  {
   "cell_type": "markdown",
   "metadata": {},
   "source": [
    "#### Transform daily data into annual data:"
   ]
  },
  {
   "cell_type": "code",
   "execution_count": 31,
   "metadata": {
    "scrolled": true
   },
   "outputs": [
    {
     "data": {
      "text/html": [
       "<div>\n",
       "<style scoped>\n",
       "    .dataframe tbody tr th:only-of-type {\n",
       "        vertical-align: middle;\n",
       "    }\n",
       "\n",
       "    .dataframe tbody tr th {\n",
       "        vertical-align: top;\n",
       "    }\n",
       "\n",
       "    .dataframe thead th {\n",
       "        text-align: right;\n",
       "    }\n",
       "</style>\n",
       "<table border=\"1\" class=\"dataframe\">\n",
       "  <thead>\n",
       "    <tr style=\"text-align: right;\">\n",
       "      <th></th>\n",
       "      <th>DTB3</th>\n",
       "    </tr>\n",
       "    <tr>\n",
       "      <th>DATE</th>\n",
       "      <th></th>\n",
       "    </tr>\n",
       "  </thead>\n",
       "  <tbody>\n",
       "    <tr>\n",
       "      <th>2012-12-31</th>\n",
       "      <td>0.05</td>\n",
       "    </tr>\n",
       "    <tr>\n",
       "      <th>2013-12-31</th>\n",
       "      <td>0.07</td>\n",
       "    </tr>\n",
       "    <tr>\n",
       "      <th>2014-12-31</th>\n",
       "      <td>0.04</td>\n",
       "    </tr>\n",
       "    <tr>\n",
       "      <th>2015-12-31</th>\n",
       "      <td>0.16</td>\n",
       "    </tr>\n",
       "    <tr>\n",
       "      <th>2016-12-31</th>\n",
       "      <td>0.50</td>\n",
       "    </tr>\n",
       "  </tbody>\n",
       "</table>\n",
       "</div>"
      ],
      "text/plain": [
       "            DTB3\n",
       "DATE            \n",
       "2012-12-31  0.05\n",
       "2013-12-31  0.07\n",
       "2014-12-31  0.04\n",
       "2015-12-31  0.16\n",
       "2016-12-31  0.50"
      ]
     },
     "execution_count": 31,
     "metadata": {},
     "output_type": "execute_result"
    }
   ],
   "source": [
    "# Create a time-series of annual data points from daily data\n",
    "TBill_Adata = TBill_Ddata.resample('A').last()\n",
    "TBill_Adata[['DTB3']].tail()"
   ]
  },
  {
   "cell_type": "markdown",
   "metadata": {},
   "source": [
    "#### Compute annual return for bonds:"
   ]
  },
  {
   "cell_type": "code",
   "execution_count": 33,
   "metadata": {
    "scrolled": true
   },
   "outputs": [
    {
     "name": "stdout",
     "output_type": "stream",
     "text": [
      "DATE\n",
      "1977-12-31    0.0613\n",
      "1978-12-31    0.0926\n",
      "1979-12-31    0.1204\n",
      "1980-12-31    0.1430\n",
      "1981-12-31    0.1108\n",
      "1982-12-31    0.0792\n",
      "1983-12-31    0.0897\n",
      "1984-12-31    0.0785\n",
      "1985-12-31    0.0705\n",
      "1986-12-31    0.0567\n",
      "1987-12-31    0.0568\n",
      "1988-12-31    0.0810\n",
      "1989-12-31    0.0755\n",
      "1990-12-31    0.0644\n",
      "1991-12-31    0.0388\n",
      "1992-12-31    0.0308\n",
      "1993-12-31    0.0301\n",
      "1994-12-31    0.0553\n",
      "1995-12-31    0.0496\n",
      "1996-12-31    0.0507\n",
      "1997-12-31    0.0522\n",
      "1998-12-31    0.0437\n",
      "1999-12-31    0.0517\n",
      "2000-12-31    0.0573\n",
      "2001-12-31    0.0171\n",
      "2002-12-31    0.0120\n",
      "2003-12-31    0.0093\n",
      "2004-12-31    0.0218\n",
      "2005-12-31    0.0399\n",
      "2006-12-31    0.0489\n",
      "2007-12-31    0.0329\n",
      "2008-12-31    0.0011\n",
      "2009-12-31    0.0006\n",
      "2010-12-31    0.0012\n",
      "2011-12-31    0.0002\n",
      "2012-12-31    0.0005\n",
      "2013-12-31    0.0007\n",
      "2014-12-31    0.0004\n",
      "2015-12-31    0.0016\n",
      "2016-12-31    0.0050\n",
      "Freq: A-DEC, Name: returns, dtype: float64\n"
     ]
    }
   ],
   "source": [
    "TBill_Adata['returns'] = TBill_Adata['DTB3'] / 100\n",
    "TBill_Adata = TBill_Adata.dropna()\n",
    "print (TBill_Adata['returns'])"
   ]
  },
  {
   "cell_type": "markdown",
   "metadata": {},
   "source": [
    "#### Compute average annual return and standard deviation of return for bonds:"
   ]
  },
  {
   "cell_type": "code",
   "execution_count": 34,
   "metadata": {},
   "outputs": [
    {
     "name": "stdout",
     "output_type": "stream",
     "text": [
      "T-bill average return = 4.5845%, st. dev  = 3.64866%\n"
     ]
    }
   ],
   "source": [
    "TBill_mean_ret = float(TBill_Adata[['returns']].mean())\n",
    "TBill_std_ret = float(TBill_Adata[['returns']].std())\n",
    "print (\"T-bill average return = %g%%, st. dev  = %g%%\" % (100*TBill_mean_ret, 100*TBill_std_ret))"
   ]
  },
  {
   "cell_type": "markdown",
   "metadata": {},
   "source": [
    "#### Compute covariance matrix:"
   ]
  },
  {
   "cell_type": "code",
   "execution_count": 35,
   "metadata": {},
   "outputs": [
    {
     "data": {
      "text/plain": [
       "array([[0.024987  , 0.00080272],\n",
       "       [0.00080272, 0.00133127]])"
      ]
     },
     "execution_count": 35,
     "metadata": {},
     "output_type": "execute_result"
    }
   ],
   "source": [
    "covMat = cov(array(SnP500_Adata[['returns']]),array(TBill_Adata[['returns']]),rowvar=0)\n",
    "covMat"
   ]
  },
  {
   "cell_type": "markdown",
   "metadata": {},
   "source": [
    "#### Simulate portfolio:"
   ]
  },
  {
   "cell_type": "code",
   "execution_count": 36,
   "metadata": {
    "scrolled": true
   },
   "outputs": [],
   "source": [
    "v0 = 1000 # Initial capital\n",
    "Ns = 5000 # Number of scenarios"
   ]
  },
  {
   "cell_type": "code",
   "execution_count": 37,
   "metadata": {},
   "outputs": [
    {
     "data": {
      "text/plain": [
       "[0.09130311413356888, 0.04584499999999999]"
      ]
     },
     "execution_count": 37,
     "metadata": {},
     "output_type": "execute_result"
    }
   ],
   "source": [
    "mu = [SnP500_mean_ret, TBill_mean_ret] # Expected return\n",
    "mu"
   ]
  },
  {
   "cell_type": "code",
   "execution_count": 38,
   "metadata": {},
   "outputs": [],
   "source": [
    "stockRet = ones(Ns)\n",
    "bondsRet = ones(Ns)"
   ]
  },
  {
   "cell_type": "code",
   "execution_count": 39,
   "metadata": {},
   "outputs": [],
   "source": [
    "scenarios = random.multivariate_normal(mu, covMat, Ns)\n",
    "for year in range(1, 31):\n",
    "    scenarios = random.multivariate_normal(mu, covMat, Ns)\n",
    "    stockRet *= (1 + scenarios[:,0])\n",
    "    bondsRet *= (1 + scenarios[:,1])"
   ]
  },
  {
   "cell_type": "code",
   "execution_count": 40,
   "metadata": {},
   "outputs": [],
   "source": [
    "v30 = 0.5 * v0 * stockRet + 0.5 * v0 * bondsRet"
   ]
  },
  {
   "cell_type": "code",
   "execution_count": 41,
   "metadata": {},
   "outputs": [
    {
     "data": {
      "image/png": "[encoded data removed]",
      "text/plain": [
       "<Figure size 432x288 with 1 Axes>"
      ]
     },
     "metadata": {},
     "output_type": "display_data"
    }
   ],
   "source": [
    "hist, bins = histogram(v30, bins = 100)\n",
    "positions = (bins[:-1] + bins[1:]) / 2\n",
    "width = (bins[1] - bins[0]) * 0.8\n",
    "plt.bar(positions, hist, width=width)\n",
    "plt.xlabel('portfolio value after 30 years')\n",
    "plt.ylabel('frequency')\n",
    "plt.show()"
   ]
  },
  {
   "cell_type": "markdown",
   "metadata": {
    "collapsed": true
   },
   "source": [
    "# Simulation Example 4\n",
    "\n",
    "Compare two portfolios"
   ]
  },
  {
   "cell_type": "code",
   "execution_count": 42,
   "metadata": {},
   "outputs": [],
   "source": [
    "# Compute portfolios by iterating through different combinations of weights\n",
    "v30comp = []\n",
    "for w in arange(0.2, 1.01, 0.2):\n",
    "    v30comp += [w * v0 * stockRet + (1 - w) * v0 * bondsRet]"
   ]
  },
  {
   "cell_type": "code",
   "execution_count": 43,
   "metadata": {},
   "outputs": [],
   "source": [
    "# Plot a histogram of the distribution of\n",
    "# differences in outcomes for v30\n",
    "# (Stratery 4 - Strategy 2)\n",
    "v30d = v30comp[3] - v30comp[1]"
   ]
  },
  {
   "cell_type": "code",
   "execution_count": 44,
   "metadata": {},
   "outputs": [
    {
     "data": {
      "image/png": "[encoded data removed]",
      "text/plain": [
       "<Figure size 432x288 with 1 Axes>"
      ]
     },
     "metadata": {},
     "output_type": "display_data"
    }
   ],
   "source": [
    "hist, bins = histogram(v30d, bins = 50)\n",
    "positions = (bins[:-1] + bins[1:]) / 2\n",
    "width = (bins[1] - bins[0]) * 0.8\n",
    "plt.bar(positions, hist, width=width)\n",
    "plt.show()"
   ]
  },
  {
   "cell_type": "code",
   "execution_count": 46,
   "metadata": {},
   "outputs": [
    {
     "name": "stdout",
     "output_type": "stream",
     "text": [
      "Strategy 4 was better in 4425 cases \n",
      "Strategy 2 was better in 575 cases\n",
      "Difference = 3850\n"
     ]
    }
   ],
   "source": [
    "# Compute number of elements in v30d that are > 0 and < 0 and compare\n",
    "pos_count = (v30d > 0).sum()\n",
    "neg_count = (v30d <= 0).sum()\n",
    "\n",
    "print (u\"\"\"Strategy 4 was better in %d cases \n",
    "Strategy 2 was better in %d cases\n",
    "Difference = %d\"\"\" % (pos_count, neg_count, pos_count - neg_count))"
   ]
  }
 ],
 "metadata": {
  "anaconda-cloud": {},
  "kernelspec": {
   "display_name": "Python 3",
   "language": "python",
   "name": "python3"
  },
  "language_info": {
   "codemirror_mode": {
    "name": "ipython",
    "version": 3
   },
   "file_extension": ".py",
   "mimetype": "text/x-python",
   "name": "python",
   "nbconvert_exporter": "python",
   "pygments_lexer": "ipython3",
   "version": "3.7.0"
  }
 },
 "nbformat": 4,
 "nbformat_minor": 1
}
