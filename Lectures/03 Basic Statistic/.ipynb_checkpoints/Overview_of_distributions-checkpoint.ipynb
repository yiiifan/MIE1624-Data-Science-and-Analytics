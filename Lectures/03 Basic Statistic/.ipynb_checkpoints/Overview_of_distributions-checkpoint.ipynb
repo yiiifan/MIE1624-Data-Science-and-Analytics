{
 "cells": [
  {
   "cell_type": "markdown",
   "metadata": {},
   "source": [
    "# Introduction to Statistics \n",
    "Many statistical tools and techniques used in data analysis are based on probability, a measures on a scale from 0 to 1 the likelihood of an event occurence (0 the event never occurs, 1, the event always occurs.). \n",
    "\n",
    "Variables in the columns of a data set can be thought of as random variables: their values varying due to chance. \n",
    "\n",
    "The distribution of the outcomes (values) of a random variable is described using probability distribution (function). In statistics, there are several common probability distributions, corresponding to various \"shapes\". The most commonly used to model real life random events are the Uniform, Normal, Binomial, Exponential, Poisson, and Lognormal distributions.\n",
    "\n",
    "\n",
    "#### About this Notebook\n",
    "This notebook presents several common probability distributions and how to work with them in Python.\n",
    "\n",
    "\n",
    "## The Uniform Distribution\n",
    "The uniform distribution is a probability distribution where each value within a certain range is equally likely to occur and values outside of the range never occur.\n",
    "\n"
   ]
  },
  {
   "cell_type": "markdown",
   "metadata": {},
   "source": [
    "### Importing Needed packages\n",
    "Let's generate some uniform data and plot a density curve using the scipy.stats library\n"
   ]
  },
  {
   "cell_type": "code",
   "execution_count": 1,
   "metadata": {
    "collapsed": true
   },
   "outputs": [],
   "source": [
    "# Uncomment next command if you need to install a missing module\n",
    "#!pip install statsmodels\n",
    "import numpy as np\n",
    "import pandas as pd\n",
    "import matplotlib.pyplot as plt\n",
    "import scipy.stats  as stats\n",
    "%matplotlib inline"
   ]
  },
  {
   "cell_type": "markdown",
   "metadata": {},
   "source": [
    "## Uniform Distribution\n",
    "The uniform distribution is a probability distribution where each value within a certain range is equally likely to occur and values outside of the range never occur. If we make a density plot of a uniform distribution, it appears flat because no value is any more likely (and hence has any more density) than another.\n",
    "\n",
    "Many useful functions for working with probability distributions in Python are contained in the `scipy.stats` library. Let's generate some uniform data and plot a density curve:"
   ]
  },
  {
   "cell_type": "code",
   "execution_count": 2,
   "metadata": {},
   "outputs": [
    {
     "data": {
      "text/plain": [
       "<matplotlib.axes._subplots.AxesSubplot at 0xbae6c88>"
      ]
     },
     "execution_count": 2,
     "metadata": {},
     "output_type": "execute_result"
    },
    {
     "data": {
      "image/png": "[encoded data removed]",
      "text/plain": [
       "<matplotlib.figure.Figure at 0xbae65c0>"
      ]
     },
     "metadata": {},
     "output_type": "display_data"
    }
   ],
   "source": [
    "uniform_data = stats.uniform.rvs(size  = 10000,  # Generate 10000 numbers\n",
    "                                 loc   = 0,      # From 0 \n",
    "                                 scale = 20)     # To 20\n",
    "\n",
    "pd.DataFrame(uniform_data).plot(kind   = \"density\",  # Plot the distribution\n",
    "                               figsize = (9,9),\n",
    "                               xlim    = (-5,25))"
   ]
  },
  {
   "cell_type": "markdown",
   "metadata": {},
   "source": [
    "### Notes:\n",
    "\n",
    "The plot above is an approximation of the theoretical uniform distribution because it is based on a sample of observations: we generated 10,000 data points from a uniform distribution spanning the range 0 to 20. \n",
    "\n",
    "In the density plot, we see that the density of sample data is almost level, i.e., all values have the same probability of occurring. \n",
    "\n",
    "Note: the area under a probability density curve is always equal to 1.\n",
    "\n",
    "More useful scipy functions:\n",
    "\n",
    "- **stats.distribution.rvs()** generates random numbers from the specified distribution. The arguments to `rvs()` vary depending on the type of distribution considered, e.g., the starting and ending points and the sample size for a uniform distribution.\n",
    "\n",
    "- ** stats.distribution.cdf()** returns the probability that an observation drawn from a distribution is below a specified value (a.k.a., the cumulative distribution function) calculated as the area under the distribution's density curve to the left of the specified value (on the $x$ axis). For example, in the uniform distribution above, there is a 25% chance that an observation will be in the range 0 to 5 and a 75% chance it will fall in the range 5 to 20. We can confirm this with `cdf()`:"
   ]
  },
  {
   "cell_type": "code",
   "execution_count": 3,
   "metadata": {},
   "outputs": [
    {
     "data": {
      "text/plain": [
       "0.25"
      ]
     },
     "execution_count": 3,
     "metadata": {},
     "output_type": "execute_result"
    }
   ],
   "source": [
    "stats.uniform.cdf(x     = 5,       # quantile to check\n",
    "                  loc   = 0,       # start value of the distribution\n",
    "                  scale = 20)      # end value of the distribution \n"
   ]
  },
  {
   "cell_type": "markdown",
   "metadata": {},
   "source": [
    "- **stats.distribution.ppf()** is the inverse of `cdf()`: it returns the quantile ($x$ axis cutoff value) associated with a given probability. For example, to get the cutoff value for which there is a 20% chance of drawing an observation below that value, we can use `ppf()`:"
   ]
  },
  {
   "cell_type": "code",
   "execution_count": 4,
   "metadata": {},
   "outputs": [
    {
     "data": {
      "text/plain": [
       "4.0"
      ]
     },
     "execution_count": 4,
     "metadata": {},
     "output_type": "execute_result"
    }
   ],
   "source": [
    "stats.uniform.ppf(  q   = 0.2,     # Probability cutoff\n",
    "                  loc   = 0,       # start value of the distribution\n",
    "                  scale = 20)      # end value of the distribution "
   ]
  },
  {
   "cell_type": "markdown",
   "metadata": {},
   "source": [
    "- **stats.distribution.pdf()** returns the probability density (height of the distribution) at a given $x$ value. Note that all values within the range of a uniform distribution have the same probability density and all values outside the range of the distribution have a probability density of 0."
   ]
  },
  {
   "cell_type": "markdown",
   "metadata": {},
   "source": [
    "Probability distribution functions in `scipy` also support `median()`, `mean()`, `var()` and `std()`."
   ]
  },
  {
   "cell_type": "code",
   "execution_count": 5,
   "metadata": {},
   "outputs": [
    {
     "name": "stdout",
     "output_type": "stream",
     "text": [
      "Density at x value -2\n",
      "0.0\n",
      "Density at x value 2\n",
      "0.05\n",
      "Density at x value 6\n",
      "0.05\n",
      "Density at x value 10\n",
      "0.05\n",
      "Density at x value 14\n",
      "0.05\n",
      "Density at x value 18\n",
      "0.05\n",
      "Density at x value 22\n",
      "0.0\n"
     ]
    }
   ],
   "source": [
    "for x in range(-2,24,4):\n",
    "    print(\"Density at x value \" + str(x))\n",
    "    print( stats.uniform.pdf(x, loc = 0, scale = 20) )   \n"
   ]
  },
  {
   "cell_type": "markdown",
   "metadata": {},
   "source": [
    "### Generating Random Numbers and Setting The Seed\n",
    "To generate random real numbers in a range with equal probability one can draw numbers from a uniform distribution using the `stats.distribution.rvs()` described above.\n",
    "\n",
    "Python also has with a library called \"random\" which comes equiped with various operations that involve randomization. "
   ]
  },
  {
   "cell_type": "code",
   "execution_count": 6,
   "metadata": {
    "scrolled": true
   },
   "outputs": [
    {
     "name": "stdout",
     "output_type": "stream",
     "text": [
      "2\n",
      "4\n"
     ]
    }
   ],
   "source": [
    "import random\n",
    "print(random.randint(0,10))     # Get a random integer in the specified range\n",
    "print(random.choice([2,4,6,9])) # Get a random element from a sequence"
   ]
  },
  {
   "cell_type": "code",
   "execution_count": 7,
   "metadata": {},
   "outputs": [
    {
     "name": "stdout",
     "output_type": "stream",
     "text": [
      "0.05595357111592614\n"
     ]
    }
   ],
   "source": [
    "print(random.random())          # Get a real number between 0 and 1"
   ]
  },
  {
   "cell_type": "code",
   "execution_count": 8,
   "metadata": {},
   "outputs": [
    {
     "name": "stdout",
     "output_type": "stream",
     "text": [
      "7.2050012272962585\n"
     ]
    }
   ],
   "source": [
    "print(random.uniform(0,10))     # Get a real in the specified range"
   ]
  },
  {
   "cell_type": "markdown",
   "metadata": {},
   "source": [
    "## Setting the Seed\n",
    "Regardless of the method used to generate random numbers, the result of a random process can differ from one run to the next. If having different results each time is not desired, e.g., if results need to be reproduced exactly, one can ensure that the results are the same each time by setting the random number generator's seed value to a specific figure. `random.seed()` allows us to set the random number generator's seed.\n",
    "\n",
    "\n",
    "Notice that we generate the exact same numbers with both calls to `random.uniform()` because the same seed is set before each call.  This reproducibility illustrates the fact that these random numbers aren't truly random, but rather \"pseudorandom\".\n",
    "\n",
    "Many Python library functions that use randomness have an optional random seed argument built in, e.g.,  the `rvs()` function has an argument `random_state`, which allows us to set the seed.\n",
    "\n",
    "Note: there is a separate internal seed from the `numpy` library, which can be set with `numpy.random.seed()` when using functions from `numpy` and libraries built on top of it such as `pandas` and `scipy`.\n"
   ]
  },
  {
   "cell_type": "code",
   "execution_count": 9,
   "metadata": {},
   "outputs": [
    {
     "name": "stdout",
     "output_type": "stream",
     "text": [
      "[11.42805189379827, 8.577781093502292, 11.561826022689408, 4.121964642790035]\n",
      "[11.42805189379827, 8.577781093502292, 11.561826022689408, 4.121964642790035]\n"
     ]
    }
   ],
   "source": [
    "random.seed(10)           # Set the seed to 12 \n",
    "\n",
    "print([random.uniform(0,20) for x in range(4)])\n",
    "\n",
    "random.seed(10)            # Set the seed to the same value\n",
    "\n",
    "print([random.uniform(0,20) for x in range(4)])"
   ]
  },
  {
   "cell_type": "markdown",
   "metadata": {},
   "source": [
    "## Normal Distribution\n",
    "The normal (or Gaussian distribution) is a continuous probability distribution with a bell-shaped curve and is characterized by its center point (mean) and spread (standard deviation). Most observations from a normal distribution lie close to the mean, i.e., about 68% of the data lies within 1 standard deviation of the mean, 95% lies within 2 standard deviations and 99.7% within 3 standard deviations.\n",
    "\n",
    "Note that many common statistical tests assume distributions are normal. (In the `scipy` module the normal distribution is referred to as `norm`.) \n"
   ]
  },
  {
   "cell_type": "code",
   "execution_count": 10,
   "metadata": {
    "scrolled": true
   },
   "outputs": [
    {
     "name": "stdout",
     "output_type": "stream",
     "text": [
      "0.158655253931 0.158655253931 0.682689492137\n"
     ]
    }
   ],
   "source": [
    "prob_under_minus1 = stats.norm.cdf(x     = -1,  \n",
    "                                   loc   = 0,               \n",
    "                                   scale = 1)     \n",
    "\n",
    "prob_over_1 = 1 - stats.norm.cdf(x= 1,  \n",
    "                                loc = 0,               \n",
    "                                scale= 1) \n",
    "\n",
    "between_prob = 1 - (prob_under_minus1 + prob_over_1)\n",
    "\n",
    "print(prob_under_minus1, prob_over_1, between_prob)"
   ]
  },
  {
   "cell_type": "markdown",
   "metadata": {},
   "source": [
    "The figures above show that approximately 16% of the data in a normal distribution with mean 0 and standard deviation 1 is below -1, 16% is above 1 and 68% is between -1 and 1. Let's plot the normal distribution:"
   ]
  },
  {
   "cell_type": "code",
   "execution_count": 11,
   "metadata": {
    "scrolled": false
   },
   "outputs": [
    {
     "data": {
      "text/plain": [
       "Text(1.4,0.03,'0.159')"
      ]
     },
     "execution_count": 11,
     "metadata": {},
     "output_type": "execute_result"
    },
    {
     "data": {
      "image/png": "[encoded data removed]",
      "text/plain": [
       "<matplotlib.figure.Figure at 0xbdd6198>"
      ]
     },
     "metadata": {},
     "output_type": "display_data"
    }
   ],
   "source": [
    "# Plot Normal distribution areas\n",
    "\n",
    "plt.rcParams[\"figure.figsize\"] = (9,9)\n",
    "                                  \n",
    "plt.fill_between(x=np.arange(-4,-1,0.01), \n",
    "                 y1= stats.norm.pdf(np.arange(-4,-1,0.01)) ,\n",
    "                 facecolor='red',\n",
    "                 alpha=0.35)\n",
    "\n",
    "plt.fill_between(x=np.arange(1,4,0.01), \n",
    "                 y1= stats.norm.pdf(np.arange(1,4,0.01)) ,\n",
    "                 facecolor='red',\n",
    "                 alpha=0.35)\n",
    "\n",
    "plt.fill_between(x=np.arange(-1,1,0.01), \n",
    "                 y1= stats.norm.pdf(np.arange(-1,1,0.01)) ,\n",
    "                 facecolor='blue',\n",
    "                 alpha=0.35)\n",
    "\n",
    "plt.text(x=-1.8, y=0.03, s= round(prob_under_minus1,3))\n",
    "plt.text(x=-0.2, y=0.1,  s= round(between_prob,3))\n",
    "plt.text(x=1.4,  y=0.03, s= round(prob_over_1,3))"
   ]
  },
  {
   "cell_type": "markdown",
   "metadata": {},
   "source": [
    "The plot above shows the bell shape of the normal distribution as well as the area below, above and within one standard deviation of the mean. One can also check the quantiles of a normal distribution with `stats.norm.ppf()`:"
   ]
  },
  {
   "cell_type": "code",
   "execution_count": 12,
   "metadata": {
    "scrolled": true
   },
   "outputs": [
    {
     "name": "stdout",
     "output_type": "stream",
     "text": [
      "-1.95996398454\n",
      "1.95996398454\n"
     ]
    }
   ],
   "source": [
    "print( stats.norm.ppf(q=0.025) ) # Find the quantile for the 2.5% cutoff\n",
    "\n",
    "print( stats.norm.ppf(q=0.975) ) # Find the quantile for the 97.5% cutoff"
   ]
  },
  {
   "cell_type": "markdown",
   "metadata": {},
   "source": [
    "The figures above show that approximately 5% of the data is further than 2 standard deviations from the mean."
   ]
  },
  {
   "cell_type": "markdown",
   "metadata": {},
   "source": [
    "## Binomial Distribution\n",
    "The binomial distribution is a discrete probability distribution that models the outcomes of a given number of random trails of some experiment or event. The binomial distribution has two parameters: the probability of success in a trial and the number of trials. The binomial distribution represents the likelihood to achieve a given number of successes in $n$ trials of an experiment. We could model flipping a fair coin 10 times with a binomial distribution where the number of trials is set to 10 and the probability of success is set to 0.5.\n",
    "\n",
    "The `scipy` name for the binomial is `binom`. \n"
   ]
  },
  {
   "cell_type": "code",
   "execution_count": 13,
   "metadata": {
    "scrolled": true
   },
   "outputs": [
    {
     "name": "stdout",
     "output_type": "stream",
     "text": [
      "col_0   0   1    2     3     4     5     6     7    8   9   10\n",
      "row_0                                                         \n",
      "counts   9  83  443  1212  2083  2447  1988  1190  451  89   5\n"
     ]
    },
    {
     "data": {
      "text/plain": [
       "array([[<matplotlib.axes._subplots.AxesSubplot object at 0x000000000BF66E10>]], dtype=object)"
      ]
     },
     "execution_count": 13,
     "metadata": {},
     "output_type": "execute_result"
    },
    {
     "data": {
      "image/png": "[encoded data removed]",
      "text/plain": [
       "<matplotlib.figure.Figure at 0xbfd8128>"
      ]
     },
     "metadata": {},
     "output_type": "display_data"
    }
   ],
   "source": [
    "fair_coin_flips = stats.binom.rvs(n=10,        # Number of flips per trial\n",
    "                                  p=0.5,       # Success probability\n",
    "                                  size=10000)  # Number of trials\n",
    "\n",
    "print( pd.crosstab(index=\"counts\", columns= fair_coin_flips))\n",
    "\n",
    "pd.DataFrame(fair_coin_flips).hist(range=(-0.5,10.5), bins=11)"
   ]
  },
  {
   "cell_type": "markdown",
   "metadata": {},
   "source": [
    "The binomial distribution is discrete and can be summarized with a frequency table (and  a histogram). The histogram shows us that a binomial distribution with a 50% probability of success is roughly symmetric, but this is not the case in general."
   ]
  },
  {
   "cell_type": "code",
   "execution_count": 14,
   "metadata": {
    "scrolled": true
   },
   "outputs": [
    {
     "name": "stdout",
     "output_type": "stream",
     "text": [
      "col_0   3   4    5    6     7     8     9     10\n",
      "row_0                                           \n",
      "counts   5  54  266  835  2082  3043  2678  1037\n"
     ]
    },
    {
     "data": {
      "text/plain": [
       "array([[<matplotlib.axes._subplots.AxesSubplot object at 0x000000000C181B00>]], dtype=object)"
      ]
     },
     "execution_count": 14,
     "metadata": {},
     "output_type": "execute_result"
    },
    {
     "data": {
      "image/png": "[encoded data removed]",
      "text/plain": [
       "<matplotlib.figure.Figure at 0x59afd68>"
      ]
     },
     "metadata": {},
     "output_type": "display_data"
    }
   ],
   "source": [
    "biased_coin_flips = stats.binom.rvs(n=10,      # Number of flips per trial\n",
    "                                  p=0.8,       # Success probability\n",
    "                                  size=10000)  # Number of trials\n",
    "\n",
    "# Print table of counts\n",
    "print( pd.crosstab(index=\"counts\", columns= biased_coin_flips))\n",
    "\n",
    "# Plot histogram\n",
    "pd.DataFrame(biased_coin_flips).hist(range=(-0.5,10.5), bins=11)"
   ]
  },
  {
   "cell_type": "code",
   "execution_count": 15,
   "metadata": {
    "scrolled": false
   },
   "outputs": [
    {
     "name": "stdout",
     "output_type": "stream",
     "text": [
      "0.0327934976\n",
      "0.3758096384\n"
     ]
    }
   ],
   "source": [
    "#cdf() check the probability of achieving a number of successes within a certain range\n",
    "\n",
    "print(stats.binom.cdf(k=5,        # Probability of k = 5 successes or less\n",
    "                      n=10,       # With 10 flips\n",
    "                      p=0.8))     # And success probability 0.8\n",
    "\n",
    "print(1 - stats.binom.cdf(k=8,    # Probability of k = 9 successes or more\n",
    "                          n=10,   # With 10 flips\n",
    "                          p=0.8)) # And success probability 0.8"
   ]
  },
  {
   "cell_type": "markdown",
   "metadata": {},
   "source": [
    "For continuous probability density functions, we can use `pdf()` to check the probability density at a given $x$ value. For discrete distributions like the binomial, we can use `stats.distribution.pmf()`, the probability mass function to check the proportion of observations at given number of successes $k$."
   ]
  },
  {
   "cell_type": "code",
   "execution_count": 16,
   "metadata": {},
   "outputs": [
    {
     "name": "stdout",
     "output_type": "stream",
     "text": [
      "0.24609375\n",
      "0.301989888\n"
     ]
    }
   ],
   "source": [
    "print(stats.binom.pmf(k=5,        # Probability of k = 5 successes\n",
    "                      n=10,       # With 10 flips\n",
    "                      p=0.5))     # And success probability 0.5\n",
    "\n",
    "print(stats.binom.pmf(k=8,        # Probability of k = 8 successes\n",
    "                      n=10,       # With 10 flips\n",
    "                      p=0.8))     # And success probability 0.8"
   ]
  },
  {
   "cell_type": "markdown",
   "metadata": {},
   "source": [
    "## Geometric and Exponential Distributions\n",
    "The geometric distribution is discrete and models the number of trials it takes to achieve a success in repeated experiments with a given probability of success. The exponential distribution is continuous and models the amount of time before an event occurs given a certain occurrence rate.\n",
    "The `scipy` nickname for the geometric distribution is \"geom\". Below we model the number of trials it takes to get a success (heads) when flipping a fair coin:\n"
   ]
  },
  {
   "cell_type": "code",
   "execution_count": 17,
   "metadata": {},
   "outputs": [
    {
     "name": "stdout",
     "output_type": "stream",
     "text": [
      "col_0     1     2     3    4    5    6   7   8   9   10  11  12  14  15  16\n",
      "row_0                                                                      \n",
      "counts  4922  2545  1301  603  292  180  86  31  24   8   3   1   1   2   1\n"
     ]
    },
    {
     "data": {
      "text/plain": [
       "array([[<matplotlib.axes._subplots.AxesSubplot object at 0x000000000C568358>]], dtype=object)"
      ]
     },
     "execution_count": 17,
     "metadata": {},
     "output_type": "execute_result"
    },
    {
     "data": {
      "image/png": "[encoded data removed]",
      "text/plain": [
       "<matplotlib.figure.Figure at 0xc181f98>"
      ]
     },
     "metadata": {},
     "output_type": "display_data"
    }
   ],
   "source": [
    "random.seed(12)\n",
    "\n",
    "flips_till_heads = stats.geom.rvs(size=10000,  # Generate geometric data\n",
    "                                  p=0.5)       # With success prob 0.5\n",
    "\n",
    "# Print table of counts\n",
    "print( pd.crosstab(index=\"counts\", columns= flips_till_heads))\n",
    "\n",
    "# Plot histogram\n",
    "pd.DataFrame(flips_till_heads).hist(range=(-0.5,max(flips_till_heads)+0.5)\n",
    "                                    , bins=max(flips_till_heads)+1)"
   ]
  },
  {
   "cell_type": "markdown",
   "metadata": {},
   "source": [
    "In the 10,000 trails generated, the longest it took to get a heads was 13 flips. We can use `cdf()` to check the probability of needing 3 flips or more to get a success:\n"
   ]
  },
  {
   "cell_type": "code",
   "execution_count": 18,
   "metadata": {},
   "outputs": [
    {
     "data": {
      "text/plain": [
       "0.125"
      ]
     },
     "execution_count": 18,
     "metadata": {},
     "output_type": "execute_result"
    }
   ],
   "source": [
    "first_three = stats.geom.cdf(k=3,   # Prob of success in first 5 flips\n",
    "                           p=0.5)\n",
    "\n",
    "1 - first_three"
   ]
  },
  {
   "cell_type": "code",
   "execution_count": 19,
   "metadata": {},
   "outputs": [
    {
     "data": {
      "text/plain": [
       "0.25"
      ]
     },
     "execution_count": 19,
     "metadata": {},
     "output_type": "execute_result"
    }
   ],
   "source": [
    "#Use pmf() to check the probability of seeing a specific number of flips before a successes\n",
    "stats.geom.pmf(k=2,   # Prob of needing exactly 2 flips to get the first success\n",
    "              p=0.5)"
   ]
  },
  {
   "cell_type": "markdown",
   "metadata": {},
   "source": [
    "The scipy name for the exponential distribution is \"expon\". "
   ]
  },
  {
   "cell_type": "code",
   "execution_count": 20,
   "metadata": {},
   "outputs": [
    {
     "data": {
      "text/plain": [
       "0.36787944117144233"
      ]
     },
     "execution_count": 20,
     "metadata": {},
     "output_type": "execute_result"
    }
   ],
   "source": [
    "# Get the probability of waiting more than 1 time unit before a success\n",
    "\n",
    "prob_1 = stats.expon.cdf(x=1,        \n",
    "                         scale=1)  # Arrival rate\n",
    "\n",
    "1 - prob_1"
   ]
  },
  {
   "cell_type": "markdown",
   "metadata": {},
   "source": [
    "Note: The average arrival time for the exponential distribution is equal to `1/arrival_rate`.\n",
    "\n",
    "Let's plot this exponential distribution:"
   ]
  },
  {
   "cell_type": "code",
   "execution_count": 21,
   "metadata": {},
   "outputs": [
    {
     "data": {
      "text/plain": [
       "Text(1.5,0.08,'0.368')"
      ]
     },
     "execution_count": 21,
     "metadata": {},
     "output_type": "execute_result"
    },
    {
     "data": {
      "image/png": "[encoded data removed]",
      "text/plain": [
       "<matplotlib.figure.Figure at 0xcb9ac18>"
      ]
     },
     "metadata": {},
     "output_type": "display_data"
    }
   ],
   "source": [
    "plt.rcParams[\"figure.figsize\"] = (9,9)\n",
    "\n",
    "plt.fill_between(x=np.arange(0,1,0.01), \n",
    "                 y1= stats.expon.pdf(np.arange(0,1,0.01)) ,\n",
    "                 facecolor='blue',\n",
    "                 alpha=0.35)\n",
    "\n",
    "plt.fill_between(x=np.arange(1,7,0.01), \n",
    "                 y1= stats.expon.pdf(np.arange(1,7,0.01)) ,\n",
    "                 facecolor='red',\n",
    "                 alpha=0.35)\n",
    "\n",
    "plt.text(x=0.3, y=0.2, s= round(prob_1,3))\n",
    "plt.text(x=1.5, y=0.08, s= round(1 - prob_1,3))"
   ]
  },
  {
   "cell_type": "markdown",
   "metadata": {},
   "source": [
    "## Poisson Distribution\n",
    "The Poisson distribution models the probability of seeing a certain number of successes within a time interval, where the time it takes for the next success is modeled by an exponential distribution. The Poisson distribution can be used to model the number of arrivals a hospital can expect in a hour's time, the number of emailsone can expect to receive in a day, etc.\n",
    "The `scipy` name for the Poisson distribution is \"poisson\". Below is a plot for data from a Poisson distribution with an arrival rate of 1 per time unit:\n"
   ]
  },
  {
   "cell_type": "code",
   "execution_count": 22,
   "metadata": {},
   "outputs": [
    {
     "name": "stdout",
     "output_type": "stream",
     "text": [
      "col_0      0     1     2    3    4   5   6  7\n",
      "row_0                                        \n",
      "counts  3730  3671  1828  590  146  22  11  2\n"
     ]
    },
    {
     "data": {
      "text/plain": [
       "array([[<matplotlib.axes._subplots.AxesSubplot object at 0x000000000CC09208>]], dtype=object)"
      ]
     },
     "execution_count": 22,
     "metadata": {},
     "output_type": "execute_result"
    },
    {
     "data": {
      "image/png": "[encoded data removed]",
      "text/plain": [
       "<matplotlib.figure.Figure at 0xcc40160>"
      ]
     },
     "metadata": {},
     "output_type": "display_data"
    }
   ],
   "source": [
    "random.seed(12)\n",
    "\n",
    "arrival_rate_1 = stats.poisson.rvs(size=10000,  # Generate Poisson data\n",
    "                                   mu=1 )       # Average arrival time 1\n",
    "\n",
    "# Print table of counts\n",
    "print( pd.crosstab(index=\"counts\", columns= arrival_rate_1))\n",
    "\n",
    "%matplotlib inline\n",
    "# Plot histogram\n",
    "pd.DataFrame(arrival_rate_1).hist(range=(-0.5,max(arrival_rate_1)+0.5),\n",
    "                                  bins=max(arrival_rate_1)+1)\n"
   ]
  },
  {
   "cell_type": "markdown",
   "metadata": {},
   "source": [
    "The histogram shows that when arrivals are relatively infrequent, it is rare to see more than a couple of arrivals in each time period. "
   ]
  },
  {
   "cell_type": "code",
   "execution_count": 23,
   "metadata": {},
   "outputs": [
    {
     "name": "stdout",
     "output_type": "stream",
     "text": [
      "col_0   0   1   2   3    4    5    6    7     8     9  ...   15   16   17  18  \\\n",
      "row_0                                                  ...                      \n",
      "counts   1   1  17  81  190  348  634  897  1085  1289 ...  333  208  109  70   \n",
      "\n",
      "col_0   19  20  21  22  23  24  \n",
      "row_0                           \n",
      "counts  39  13  15   8   2   1  \n",
      "\n",
      "[1 rows x 25 columns]\n"
     ]
    },
    {
     "data": {
      "text/plain": [
       "array([[<matplotlib.axes._subplots.AxesSubplot object at 0x000000000CEA0240>]], dtype=object)"
      ]
     },
     "execution_count": 23,
     "metadata": {},
     "output_type": "execute_result"
    },
    {
     "data": {
      "image/png": "[encoded data removed]",
      "text/plain": [
       "<matplotlib.figure.Figure at 0xcb91c50>"
      ]
     },
     "metadata": {},
     "output_type": "display_data"
    }
   ],
   "source": [
    "random.seed(12)\n",
    "\n",
    "arrival_rate_10 = stats.poisson.rvs(size=10000,  # Generate Poisson data\n",
    "                                   mu=10 )       # Average arrival time 10\n",
    "\n",
    "# Print table of counts\n",
    "print( pd.crosstab(index=\"counts\", columns= arrival_rate_10))\n",
    "\n",
    "# Plot histogram\n",
    "pd.DataFrame(arrival_rate_10).hist(range=(-0.5,max(arrival_rate_10)+0.5)\n",
    "                                    , bins=max(arrival_rate_10)+1)\n"
   ]
  },
  {
   "cell_type": "markdown",
   "metadata": {},
   "source": [
    "We can use `cdf()` to check the probability of achieving more (or less) than a certain number of successes and `pmf()` to check the probability of obtaining a specific number of successes:"
   ]
  },
  {
   "cell_type": "code",
   "execution_count": 24,
   "metadata": {},
   "outputs": [
    {
     "name": "stdout",
     "output_type": "stream",
     "text": [
      "0.067085962879\n",
      "0.125110035721\n"
     ]
    }
   ],
   "source": [
    "print(stats.poisson.cdf(k=5,     # Check the probability of 5 arrivals or less\n",
    "                  mu=10))  # With arrival rate 10\n",
    "\n",
    "print(stats.poisson.pmf(k=10,     # Check the prob f exactly 10 arrivals\n",
    "                  mu=10))   # With arrival rate 10"
   ]
  },
  {
   "cell_type": "markdown",
   "metadata": {},
   "source": [
    "Material adapted from:\n",
    "http://hamelg.blogspot.ca/2015/11/python-for-data-analysis-part-22.html"
   ]
  }
 ],
 "metadata": {
  "anaconda-cloud": {},
  "kernelspec": {
   "display_name": "Python 3",
   "language": "python",
   "name": "python3"
  },
  "language_info": {
   "codemirror_mode": {
    "name": "ipython",
    "version": 3
   },
   "file_extension": ".py",
   "mimetype": "text/x-python",
   "name": "python",
   "nbconvert_exporter": "python",
   "pygments_lexer": "ipython3",
   "version": "3.7.0"
  }
 },
 "nbformat": 4,
 "nbformat_minor": 1
}
