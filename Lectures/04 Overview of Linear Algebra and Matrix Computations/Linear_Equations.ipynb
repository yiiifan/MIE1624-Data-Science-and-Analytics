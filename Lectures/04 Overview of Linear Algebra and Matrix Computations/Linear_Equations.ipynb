{
 "cells": [
  {
   "cell_type": "markdown",
   "metadata": {},
   "source": [
    "# Systems of Linear Equations"
   ]
  },
  {
   "cell_type": "markdown",
   "metadata": {},
   "source": [
    "In this notebook we leran various functions for solving and manipulating systems of linear equations."
   ]
  },
  {
   "cell_type": "markdown",
   "metadata": {},
   "source": [
    "## Initialization"
   ]
  },
  {
   "cell_type": "code",
   "execution_count": 1,
   "metadata": {
    "collapsed": true
   },
   "outputs": [],
   "source": [
    "import numpy as np\n",
    "import scipy.linalg as la\n",
    "import sys"
   ]
  },
  {
   "cell_type": "markdown",
   "metadata": {},
   "source": [
    "The main linear algebra routines are contained in `scipy.linalg`.  Behind the scenes the calculations are done using `BLAS` and `LAPACK` libraries.  Depending on how your version was compiled these can be highly optimized and even parallelized.\n",
    "\n",
    "*Notes:*\n",
    "1. Some functions *also* have implementations in NumPy.  In general we are going to prefer the versions from `scipy.linalg`.  In practice, both versions should give the same results except in extreme cases, such as dealing with (numerically) singular matrices.\n",
    "2. We will represent both vectors and matrices using NumPy arrays.  NumPy arrays are *not* vectors or matrices.  A vector or matrix is a special object that has special properties.  For example, we know what multiplying a matrix and a vector means, where as multiplying a two dimensional array and a one dimensional array is not uniquely defined.  There *is* a matrix object in NumPy but we will not use those in this notebook.  Due to the fact that we are using arrays instead of matrices this means we will need to use the function `np.dot` when we multiply a matrix and a vector. See below for details.\n",
    "\n",
    "As always, begin by looking at the documentation.  From `scipy.linalg` we see there are many routines.  Here we will focus on some of those from \"Basics\" and those related to the LU decomposition."
   ]
  },
  {
   "cell_type": "code",
   "execution_count": 2,
   "metadata": {
    "collapsed": true
   },
   "outputs": [],
   "source": [
    "la?"
   ]
  },
  {
   "cell_type": "markdown",
   "metadata": {},
   "source": [
    "Also as always we should look at the documentation for any and all functions that interest us."
   ]
  },
  {
   "cell_type": "code",
   "execution_count": 3,
   "metadata": {
    "collapsed": true
   },
   "outputs": [],
   "source": [
    "la.solve?"
   ]
  },
  {
   "cell_type": "code",
   "execution_count": 4,
   "metadata": {
    "collapsed": true
   },
   "outputs": [],
   "source": [
    "la.lu?"
   ]
  },
  {
   "cell_type": "code",
   "execution_count": 5,
   "metadata": {
    "collapsed": true
   },
   "outputs": [],
   "source": [
    "la.lu_factor?"
   ]
  },
  {
   "cell_type": "code",
   "execution_count": 6,
   "metadata": {
    "collapsed": true
   },
   "outputs": [],
   "source": [
    "la.lu_solve?"
   ]
  },
  {
   "cell_type": "markdown",
   "metadata": {},
   "source": [
    "Notice that there are a few functions related to the LU decomposition.  We will learn why this is the case below."
   ]
  },
  {
   "cell_type": "markdown",
   "metadata": {},
   "source": [
    "## Sample linear system\n",
    "\n",
    "Consider a sample linear system of equations\n",
    "$$ \\begin{align}\n",
    "10 x_1 - 7 x_2 + x_3 &= 8, \\\\\n",
    "-3 x_1 + 2 x_2 + 6 x_3 &= 4, \\\\\n",
    "5 x_1 - x_2 + 5 x_3 &= 6 .\n",
    "\\end{align} $$\n",
    "We can write this in the form \n",
    "$$\\def\\mat#1{\\mathsf{#1}}\n",
    "A x = b, $$\n",
    "where\n",
    "$$ A = \\left( \\begin{array}{rrr}\n",
    "10 & -7 & 1 \\\\\n",
    "-3 & 2 & 6 \\\\\n",
    "5 & -1 & 5\n",
    "\\end{array} \\right)\n",
    "\\quad\\mathrm{and}\\quad\n",
    "b = \\left( \\begin{array}{c} 8 \\\\ 4 \\\\ 6 \\end{array} \\right). $$\n",
    "\n",
    "We can create these as arrays using `np.array`.  Notice that we force the result to be a floating point array, not an integer array, by making any one of the entries a floating point number.  NumPy tries to use the \"simplest\" data type when it creates an array.  There are a few ways to force the type it chooses, this is one way."
   ]
  },
  {
   "cell_type": "code",
   "execution_count": 7,
   "metadata": {
    "collapsed": true
   },
   "outputs": [],
   "source": [
    "A = np.array([ [10, -7, 1.], [-3, 2, 6], [5, -1, 5] ])\n",
    "b = np.array([8., 4, 6])"
   ]
  },
  {
   "cell_type": "markdown",
   "metadata": {},
   "source": [
    "### Solving the System\n",
    "\n",
    "To solve this system we can, not surprisingly, use `solve`."
   ]
  },
  {
   "cell_type": "code",
   "execution_count": 8,
   "metadata": {},
   "outputs": [
    {
     "name": "stdout",
     "output_type": "stream",
     "text": [
      "[ 0. -1.  1.]\n"
     ]
    }
   ],
   "source": [
    "x = la.solve(A, b)\n",
    "print(x)"
   ]
  },
  {
   "cell_type": "markdown",
   "metadata": {},
   "source": [
    "#### Verifying the Solution\n",
    "\n",
    "To verify the solution we can directly evaluate $A x$ and compare it to $b$.  Of course this only verifies that the `solve` has worked correctly, it does not verify that we have entered $A$ and $b$ correctly.  There are two steps, one is to actually perform the multiplication and the second is to compare the $A x$ to $b$."
   ]
  },
  {
   "cell_type": "markdown",
   "metadata": {},
   "source": [
    "##### Matrix Multiplication\n",
    "\n",
    "To multiply matrices we **do not use '*' **.  The usual multiplication is *component-wise multiplication*.  This is not the same as matrix multiplication.\n",
    "\n",
    "To see this, consider using the usual multiplication:"
   ]
  },
  {
   "cell_type": "code",
   "execution_count": 9,
   "metadata": {},
   "outputs": [
    {
     "name": "stdout",
     "output_type": "stream",
     "text": [
      "A = [[ 10.  -7.   1.]\n",
      " [ -3.   2.   6.]\n",
      " [  5.  -1.   5.]]\n",
      "x = [ 0. -1.  1.]\n",
      "A*x = [[ 0.  7.  1.]\n",
      " [-0. -2.  6.]\n",
      " [ 0.  1.  5.]]\n"
     ]
    }
   ],
   "source": [
    "if (sys.version_info > (3, 0)):\n",
    "    # Python 3 code in this block\n",
    "    print('A =', A)\n",
    "    print('x =', x)\n",
    "    print('A*x =', A*x)\n",
    "else:\n",
    "    # Python 2 code in this block\n",
    "    print(\"A = %s\" % np.array_str(A))\n",
    "    print(\"x = %s\" % np.array_str(x))\n",
    "    print(\"A*x = %s\" % np.array_str(A*x))"
   ]
  },
  {
   "cell_type": "markdown",
   "metadata": {},
   "source": [
    "Notice what happened: the first component of $b$ multiplied the first column of $A$, the second component of $b$ multiplied the second column of $A$, and similarly for the third.  This is what we mean by component-wise multiplication.\n",
    "\n",
    "If we want to perform *matrix multiplication* we need to use a function, `np.dot`.  Consider"
   ]
  },
  {
   "cell_type": "code",
   "execution_count": 10,
   "metadata": {},
   "outputs": [
    {
     "name": "stdout",
     "output_type": "stream",
     "text": [
      "np.dot(A, x) = [ 8.  4.  6.]\n"
     ]
    }
   ],
   "source": [
    "if (sys.version_info > (3, 0)):\n",
    "    # Python 3 code in this block\n",
    "    print('np.dot(A, x) =', np.dot(A,x))\n",
    "else:\n",
    "    # Python 2 code in this block\n",
    "    print(\"np.dot(A, x) = %s\" % np.array_str(np.dot(A,x)))        "
   ]
  },
  {
   "cell_type": "markdown",
   "metadata": {},
   "source": [
    "Notice that this returns a vector and that vector should be $b$."
   ]
  },
  {
   "cell_type": "markdown",
   "metadata": {},
   "source": [
    "##### Comparing calculations\n",
    "\n",
    "This is a small system so we can easily see that all values are nearly zero.  We do **not** want to check that $A x$ is exactly equal to $b$ (in general this does not work numerically), however, we can check that the values are \"close enough\".  There are a few ways to do this, here we use `np.allclose`. (At this point you may be checking the documentation!  Here we are using the default settings, but could adjust the tolerances for a more stringent test.)"
   ]
  },
  {
   "cell_type": "code",
   "execution_count": 11,
   "metadata": {},
   "outputs": [
    {
     "name": "stdout",
     "output_type": "stream",
     "text": [
      "[ 0.  0.  0.]\n",
      "True\n"
     ]
    }
   ],
   "source": [
    "print(np.dot(A,x)-b)\n",
    "print(np.allclose(np.dot(A, x), b))"
   ]
  },
  {
   "cell_type": "markdown",
   "metadata": {},
   "source": [
    "### Factoring the system\n",
    "\n",
    "The work required to solve the system of equations mostly involves manipulating the matrix, $A$, and then performing the same manipulations on the right hand side of the equations, $b$.  We could instead have many right hand sides (a two dimensional array with multiple columns, one for each set of values for which we want to find a solution).  This is handled by `solve`.  Alternatively, we can decompose $A$ into pieces that encode the required manipulations using the LU decomposition.  The decomposition only needs to be performed once, it can then be applied whenever needed.  Finally, for numerical stability we should also pivot the matrix with permutation matrix $P$.  LU decomposition with pivoting is provided by `scipy.linalg.lu`."
   ]
  },
  {
   "cell_type": "code",
   "execution_count": 12,
   "metadata": {},
   "outputs": [
    {
     "name": "stdout",
     "output_type": "stream",
     "text": [
      "Permutation matrix:\n",
      " [[ 1.  0.  0.]\n",
      " [ 0.  0.  1.]\n",
      " [ 0.  1.  0.]]\n",
      "Lower triangular matrix:\n",
      " [[ 1.    0.    0.  ]\n",
      " [ 0.5   1.    0.  ]\n",
      " [-0.3  -0.04  1.  ]]\n",
      "Upper triangluar matrix:\n",
      " [[ 10.    -7.     1.  ]\n",
      " [  0.     2.5    4.5 ]\n",
      " [  0.     0.     6.48]]\n",
      "PLU == A? True\n"
     ]
    }
   ],
   "source": [
    "(P, L, U) = la.lu(A)\n",
    "\n",
    "if (sys.version_info > (3, 0)):\n",
    "    # Python 3 code in this block\n",
    "    print(\"Permutation matrix:\\n\", P)\n",
    "    print(\"Lower triangular matrix:\\n\", L)\n",
    "    print(\"Upper triangluar matrix:\\n\", U)\n",
    "    print(\"PLU == A?\", np.allclose(np.dot(P,np.dot(L,U)), A))\n",
    "else:\n",
    "    # Python 2 code in this block\n",
    "    print(\"Permutation matrix:\\n%s\" % np.array_str(P))\n",
    "    print(\"Lower triangular matrix:\\n%s\" % np.array_str(L))\n",
    "    print(\"Upper triangluar matrix:\\n%s\" % np.array_str(U))\n",
    "    print(\"PLU == A? %r\" % np.allclose(np.dot(P,np.dot(L,U)), A))"
   ]
  },
  {
   "cell_type": "markdown",
   "metadata": {},
   "source": [
    "By default we are given the permutation matrix $P$ and the lower and upper triangular matrices that, when recombined, produce $\\mat A$.  This function is good when we want to see the decomposition in a form easy for us to read.  If we want to use the decomposition for solving systems of linear equations the information could be stored in a more efficient form for the computer's use.\n",
    "\n",
    "Note that our choice of using generic arrays for storing matrices comes at a cost when we want to multiply many of them together.  Here we have had to use nested calls to `np.dot`.  This can be slightly streamlined, but remains tedious.  It is just a price we must pay for our choice.  In practice it is usually a rather small price.\n",
    "\n",
    "Getting back to solving a system of equations, we can use `scipy.linalg.lu_factor` to decompose in a form more useful for the computer."
   ]
  },
  {
   "cell_type": "code",
   "execution_count": 13,
   "metadata": {},
   "outputs": [
    {
     "data": {
      "text/plain": [
       "(array([[ 10.  ,  -7.  ,   1.  ],\n",
       "        [  0.5 ,   2.5 ,   4.5 ],\n",
       "        [ -0.3 ,  -0.04,   6.48]]), array([0, 2, 2], dtype=int32))"
      ]
     },
     "execution_count": 13,
     "metadata": {},
     "output_type": "execute_result"
    }
   ],
   "source": [
    "la.lu_factor(A)"
   ]
  },
  {
   "cell_type": "markdown",
   "metadata": {},
   "source": [
    "Here $L$ and $U$ have been merged into a single matrix (notice in the form above that $L$ had ones along the diagonal so they do not need to be stored) and the permutations are represented by a one dimensional array instead a matrix.  This is much more memory efficient, but is also much harder for us to read.  Even so, this can be used in `scipy.linalg.lu_solve`.  In fact, the `tuple` returned here is exactly what needs to be provided as the first argument to that function."
   ]
  },
  {
   "cell_type": "code",
   "execution_count": 14,
   "metadata": {},
   "outputs": [
    {
     "name": "stdout",
     "output_type": "stream",
     "text": [
      "LU solution: [ 0. -1.  1.]\n",
      "Consistent with previous solution? True\n"
     ]
    }
   ],
   "source": [
    "lufactors = la.lu_factor(A)\n",
    "xlu = la.lu_solve(lufactors, b)\n",
    "print(\"LU solution: %s\" % np.array_str(xlu))\n",
    "print(\"Consistent with previous solution? %r\" % np.allclose(xlu, x))"
   ]
  },
  {
   "cell_type": "markdown",
   "metadata": {},
   "source": [
    "If $A=LU$, then $Ax=LUx=b$. Thus, first solve $Ly=b$, for $y$, then solve $Ux=y$ for $x$. Both solutions are found by back-substitution.\n",
    "\n",
    "With permutation matrix $P$, such that $PA=LU$ the decomposition is sometimes called LUP decomposition, so $LUx=Pb$. In this case the solution is also done in two logical steps: (1) solve the equation $Ly=Pb$ for $y$ and (2) solve the equation $Ux=y$ for $x$."
   ]
  },
  {
   "cell_type": "markdown",
   "metadata": {},
   "source": [
    "## Slightly Larger System\n",
    "\n",
    "As an example of a slightly larger system and one where we want to find solutions with different right hand sides consider\n",
    "$$\\mat A = \\left( \\begin{array}{rrrr}\n",
    "2 & -3 & 1 & 3 \\\\\n",
    "1 & 4 & -3 & -3 \\\\\n",
    "5 & 3 & -1 & -1 \\\\\n",
    "3 & -6 & -3 & 1\n",
    "\\end{array} \\right),\n",
    "\\quad\n",
    "\\vec b_1 = \\left( \\begin{array}{r}\n",
    "-4 \\\\ 1 \\\\ 8 \\\\ -5\n",
    "\\end{array} \\right),\n",
    "\\quad\n",
    "\\vec b_2 = \\left( \\begin{array}{r}\n",
    "-10 \\\\ 0 \\\\ -3 \\\\ -24\n",
    "\\end{array} \\right).\n",
    "$$"
   ]
  },
  {
   "cell_type": "code",
   "execution_count": 15,
   "metadata": {
    "collapsed": true
   },
   "outputs": [],
   "source": [
    "A = np.array([ [2., -3, 1, 3], [1, 4, -3, -3], [5, 3, -1, -1], [3, -6, -3, 1]])\n",
    "b1 = np.array([-4., 1, 8, -5])\n",
    "b2 = np.array([-10, 9, -3, -24])"
   ]
  },
  {
   "cell_type": "markdown",
   "metadata": {},
   "source": [
    "We can solve this directly using `solve`."
   ]
  },
  {
   "cell_type": "code",
   "execution_count": 16,
   "metadata": {},
   "outputs": [
    {
     "name": "stdout",
     "output_type": "stream",
     "text": [
      "Solution for b1: [ 2. -1.  4. -5.]\n",
      "Solution for b2: [-2.6875   3.925   -1.56875  2.90625]\n"
     ]
    }
   ],
   "source": [
    "print(\"Solution for b1: %s\" % np.array_str(la.solve(A, b1)))\n",
    "print(\"Solution for b2: %s\" % np.array_str(la.solve(A, b2)))"
   ]
  },
  {
   "cell_type": "markdown",
   "metadata": {},
   "source": [
    "Alternatively we can use an LU decomposition.  Notice the decomposition is only performed once."
   ]
  },
  {
   "cell_type": "code",
   "execution_count": 17,
   "metadata": {},
   "outputs": [
    {
     "name": "stdout",
     "output_type": "stream",
     "text": [
      "LU solution for b1: [ 2. -1.  4. -5.]\n",
      "LU solution for b2: [-2.6875   3.925   -1.56875  2.90625]\n"
     ]
    }
   ],
   "source": [
    "lufactors = la.lu_factor(A)\n",
    "print(\"LU solution for b1: %s\" % np.array_str(la.lu_solve(lufactors, b1)))\n",
    "print(\"LU solution for b2: %s\" % np.array_str(la.lu_solve(lufactors, b2)))"
   ]
  },
  {
   "cell_type": "markdown",
   "metadata": {},
   "source": [
    "Finally, we could have solved for both right hand sides at once.  To do this we need to combine `b1` and `b2`.  We do this below."
   ]
  },
  {
   "cell_type": "code",
   "execution_count": 18,
   "metadata": {},
   "outputs": [
    {
     "data": {
      "text/plain": [
       "array([[ -4.,   1.,   8.,  -5.],\n",
       "       [-10.,   9.,  -3., -24.]])"
      ]
     },
     "execution_count": 18,
     "metadata": {},
     "output_type": "execute_result"
    }
   ],
   "source": [
    "b = np.vstack((b1, b2))\n",
    "b"
   ]
  },
  {
   "cell_type": "markdown",
   "metadata": {},
   "source": [
    "If we try to use this with `solve` it fails!"
   ]
  },
  {
   "cell_type": "code",
   "execution_count": 19,
   "metadata": {},
   "outputs": [
    {
     "ename": "ValueError",
     "evalue": "Input b has to have same number of rows as input a",
     "output_type": "error",
     "traceback": [
      "\u001b[1;31m---------------------------------------------------------------------------\u001b[0m",
      "\u001b[1;31mValueError\u001b[0m                                Traceback (most recent call last)",
      "\u001b[1;32m<ipython-input-19-32000b03e56a>\u001b[0m in \u001b[0;36m<module>\u001b[1;34m()\u001b[0m\n\u001b[1;32m----> 1\u001b[1;33m \u001b[0mla\u001b[0m\u001b[1;33m.\u001b[0m\u001b[0msolve\u001b[0m\u001b[1;33m(\u001b[0m\u001b[0mA\u001b[0m\u001b[1;33m,\u001b[0m \u001b[0mb\u001b[0m\u001b[1;33m)\u001b[0m\u001b[1;33m\u001b[0m\u001b[0m\n\u001b[0m",
      "\u001b[1;32m~\\Anaconda3\\lib\\site-packages\\scipy\\linalg\\basic.py\u001b[0m in \u001b[0;36msolve\u001b[1;34m(a, b, sym_pos, lower, overwrite_a, overwrite_b, debug, check_finite, assume_a, transposed)\u001b[0m\n\u001b[0;32m    132\u001b[0m         \u001b[1;31m# Last chance to catch 1x1 scalar a and 1D b arrays\u001b[0m\u001b[1;33m\u001b[0m\u001b[1;33m\u001b[0m\u001b[0m\n\u001b[0;32m    133\u001b[0m         \u001b[1;32mif\u001b[0m \u001b[1;32mnot\u001b[0m \u001b[1;33m(\u001b[0m\u001b[0mn\u001b[0m \u001b[1;33m==\u001b[0m \u001b[1;36m1\u001b[0m \u001b[1;32mand\u001b[0m \u001b[0mb1\u001b[0m\u001b[1;33m.\u001b[0m\u001b[0msize\u001b[0m \u001b[1;33m!=\u001b[0m \u001b[1;36m0\u001b[0m\u001b[1;33m)\u001b[0m\u001b[1;33m:\u001b[0m\u001b[1;33m\u001b[0m\u001b[0m\n\u001b[1;32m--> 134\u001b[1;33m             raise ValueError('Input b has to have same number of rows as '\n\u001b[0m\u001b[0;32m    135\u001b[0m                              'input a')\n\u001b[0;32m    136\u001b[0m \u001b[1;33m\u001b[0m\u001b[0m\n",
      "\u001b[1;31mValueError\u001b[0m: Input b has to have same number of rows as input a"
     ]
    }
   ],
   "source": [
    "la.solve(A, b)"
   ]
  },
  {
   "cell_type": "markdown",
   "metadata": {},
   "source": [
    "We get an `incompatible dimensions` error because `b` should have the same number of *rows* as `A`, not the same number of columns.  This is easy to fix, just take the transpose of `b`.  There is shorthand for doing this as shown below."
   ]
  },
  {
   "cell_type": "code",
   "execution_count": 20,
   "metadata": {
    "scrolled": true
   },
   "outputs": [
    {
     "name": "stdout",
     "output_type": "stream",
     "text": [
      "Original b:\n",
      "[[ -4.   1.   8.  -5.]\n",
      " [-10.   9.  -3. -24.]]\n",
      "Transpose of b:\n",
      "[[ -4. -10.]\n",
      " [  1.   9.]\n",
      " [  8.  -3.]\n",
      " [ -5. -24.]]\n"
     ]
    }
   ],
   "source": [
    "print(\"Original b:\\n%s\" % np.array_str(b))\n",
    "print(\"Transpose of b:\\n%s\" % np.array_str(b.T))"
   ]
  },
  {
   "cell_type": "markdown",
   "metadata": {},
   "source": [
    "With this we find:"
   ]
  },
  {
   "cell_type": "code",
   "execution_count": 21,
   "metadata": {},
   "outputs": [
    {
     "name": "stdout",
     "output_type": "stream",
     "text": [
      "scipy.linalg.solve:\n",
      "[[ 2.      -2.6875 ]\n",
      " [-1.       3.925  ]\n",
      " [ 4.      -1.56875]\n",
      " [-5.       2.90625]]\n",
      "scipy.linalg.lu_solve:\n",
      "[[ 2.      -2.6875 ]\n",
      " [-1.       3.925  ]\n",
      " [ 4.      -1.56875]\n",
      " [-5.       2.90625]]\n"
     ]
    }
   ],
   "source": [
    "print(\"scipy.linalg.solve:\\n%s\" % np.array_str(la.solve(A, b.T)))\n",
    "print(\"scipy.linalg.lu_solve:\\n%s\" % np.array_str(la.lu_solve(lufactors, b.T)))"
   ]
  },
  {
   "cell_type": "markdown",
   "metadata": {},
   "source": [
    "Each *column* of the result is the solution for each *column* in the array `b`."
   ]
  },
  {
   "cell_type": "markdown",
   "metadata": {},
   "source": [
    "Note: This notebook is adapted from http://www.phys.cwru.edu/courses/p250/"
   ]
  }
 ],
 "metadata": {
  "anaconda-cloud": {},
  "kernelspec": {
   "display_name": "Python 3",
   "language": "python",
   "name": "python3"
  },
  "language_info": {
   "codemirror_mode": {
    "name": "ipython",
    "version": 3
   },
   "file_extension": ".py",
   "mimetype": "text/x-python",
   "name": "python",
   "nbconvert_exporter": "python",
   "pygments_lexer": "ipython3",
   "version": "3.6.3"
  },
  "widgets": {
   "state": {},
   "version": "1.1.2"
  }
 },
 "nbformat": 4,
 "nbformat_minor": 1
}
