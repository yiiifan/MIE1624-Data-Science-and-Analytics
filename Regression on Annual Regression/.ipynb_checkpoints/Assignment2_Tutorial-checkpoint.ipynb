{
 "cells": [
  {
   "cell_type": "code",
   "execution_count": 93,
   "metadata": {},
   "outputs": [],
   "source": [
    "#----------------------------------------------\n",
    "# Import Libraries\n",
    "#----------------------------------------------\n",
    "\n",
    "import pandas as pd\n",
    "import numpy as np\n",
    "import os\n",
    "\n",
    "from sklearn.model_selection import train_test_split\n",
    "\n",
    "from sklearn.feature_extraction.text import CountVectorizer\n",
    "from sklearn import linear_model\n",
    "\n",
    "from sklearn.feature_selection import RFE\n",
    "from sklearn.ensemble import GradientBoostingRegressor\n",
    "from sklearn.metrics import make_scorer, r2_score, mean_squared_error, auc, mean_absolute_error\n",
    "from sklearn.model_selection import GridSearchCV, KFold\n",
    "# from sklearn.cross_validation import KFold # old version\n",
    "\n",
    "from sklearn.neural_network import MLPRegressor\n",
    "import matplotlib.pyplot as plt\n",
    "\n",
    "cur_dir = os.getcwd()"
   ]
  },
  {
   "cell_type": "markdown",
   "metadata": {},
   "source": [
    "# Step 1 - Data Cleaning and Data Preparation"
   ]
  },
  {
   "cell_type": "code",
   "execution_count": 14,
   "metadata": {
    "collapsed": true
   },
   "outputs": [],
   "source": [
    "# Using a small subset of original data\n",
    "# full data can be found on Kaggle : https://www.kaggle.com/c/job-salary-prediction\n",
    "Salaries = pd.read_csv(\"Salary_Train_sample.csv\", encoding = \"ISO-8859-1\") \n",
    "Salaries_Train,Salaries_Test = train_test_split(Salaries,test_size=0.33, random_state=13)"
   ]
  },
  {
   "cell_type": "code",
   "execution_count": 3,
   "metadata": {},
   "outputs": [
    {
     "data": {
      "text/html": [
       "<div>\n",
       "<style scoped>\n",
       "    .dataframe tbody tr th:only-of-type {\n",
       "        vertical-align: middle;\n",
       "    }\n",
       "\n",
       "    .dataframe tbody tr th {\n",
       "        vertical-align: top;\n",
       "    }\n",
       "\n",
       "    .dataframe thead th {\n",
       "        text-align: right;\n",
       "    }\n",
       "</style>\n",
       "<table border=\"1\" class=\"dataframe\">\n",
       "  <thead>\n",
       "    <tr style=\"text-align: right;\">\n",
       "      <th></th>\n",
       "      <th>Id</th>\n",
       "      <th>Title</th>\n",
       "      <th>FullDescription</th>\n",
       "      <th>LocationRaw</th>\n",
       "      <th>LocationNormalized</th>\n",
       "      <th>ContractType</th>\n",
       "      <th>ContractTime</th>\n",
       "      <th>Company</th>\n",
       "      <th>Category</th>\n",
       "      <th>SalaryRaw</th>\n",
       "      <th>SalaryNormalized</th>\n",
       "      <th>SourceName</th>\n",
       "    </tr>\n",
       "  </thead>\n",
       "  <tbody>\n",
       "    <tr>\n",
       "      <th>0</th>\n",
       "      <td>12612628</td>\n",
       "      <td>Engineering Systems Analyst</td>\n",
       "      <td>Engineering Systems Analyst Dorking Surrey Sal...</td>\n",
       "      <td>Dorking, Surrey, Surrey</td>\n",
       "      <td>Dorking</td>\n",
       "      <td>NaN</td>\n",
       "      <td>permanent</td>\n",
       "      <td>Gregory Martin International</td>\n",
       "      <td>Engineering Jobs</td>\n",
       "      <td>20000 - 30000/annum 20-30K</td>\n",
       "      <td>25000</td>\n",
       "      <td>cv-library.co.uk</td>\n",
       "    </tr>\n",
       "    <tr>\n",
       "      <th>1</th>\n",
       "      <td>12612830</td>\n",
       "      <td>Stress Engineer Glasgow</td>\n",
       "      <td>Stress Engineer Glasgow Salary **** to **** We...</td>\n",
       "      <td>Glasgow, Scotland, Scotland</td>\n",
       "      <td>Glasgow</td>\n",
       "      <td>NaN</td>\n",
       "      <td>permanent</td>\n",
       "      <td>Gregory Martin International</td>\n",
       "      <td>Engineering Jobs</td>\n",
       "      <td>25000 - 35000/annum 25-35K</td>\n",
       "      <td>30000</td>\n",
       "      <td>cv-library.co.uk</td>\n",
       "    </tr>\n",
       "    <tr>\n",
       "      <th>2</th>\n",
       "      <td>12612844</td>\n",
       "      <td>Modelling and simulation analyst</td>\n",
       "      <td>Mathematical Modeller / Simulation Analyst / O...</td>\n",
       "      <td>Hampshire, South East, South East</td>\n",
       "      <td>Hampshire</td>\n",
       "      <td>NaN</td>\n",
       "      <td>permanent</td>\n",
       "      <td>Gregory Martin International</td>\n",
       "      <td>Engineering Jobs</td>\n",
       "      <td>20000 - 40000/annum 20-40K</td>\n",
       "      <td>30000</td>\n",
       "      <td>cv-library.co.uk</td>\n",
       "    </tr>\n",
       "    <tr>\n",
       "      <th>3</th>\n",
       "      <td>12613049</td>\n",
       "      <td>Engineering Systems Analyst / Mathematical Mod...</td>\n",
       "      <td>Engineering Systems Analyst / Mathematical Mod...</td>\n",
       "      <td>Surrey, South East, South East</td>\n",
       "      <td>Surrey</td>\n",
       "      <td>NaN</td>\n",
       "      <td>permanent</td>\n",
       "      <td>Gregory Martin International</td>\n",
       "      <td>Engineering Jobs</td>\n",
       "      <td>25000 - 30000/annum 25K-30K negotiable</td>\n",
       "      <td>27500</td>\n",
       "      <td>cv-library.co.uk</td>\n",
       "    </tr>\n",
       "    <tr>\n",
       "      <th>4</th>\n",
       "      <td>12613647</td>\n",
       "      <td>Pioneer, Miser Engineering Systems Analyst</td>\n",
       "      <td>Pioneer, Miser  Engineering Systems Analyst Do...</td>\n",
       "      <td>Surrey, South East, South East</td>\n",
       "      <td>Surrey</td>\n",
       "      <td>NaN</td>\n",
       "      <td>permanent</td>\n",
       "      <td>Gregory Martin International</td>\n",
       "      <td>Engineering Jobs</td>\n",
       "      <td>20000 - 30000/annum 20-30K</td>\n",
       "      <td>25000</td>\n",
       "      <td>cv-library.co.uk</td>\n",
       "    </tr>\n",
       "  </tbody>\n",
       "</table>\n",
       "</div>"
      ],
      "text/plain": [
       "         Id                                              Title  \\\n",
       "0  12612628                        Engineering Systems Analyst   \n",
       "1  12612830                            Stress Engineer Glasgow   \n",
       "2  12612844                   Modelling and simulation analyst   \n",
       "3  12613049  Engineering Systems Analyst / Mathematical Mod...   \n",
       "4  12613647         Pioneer, Miser Engineering Systems Analyst   \n",
       "\n",
       "                                     FullDescription  \\\n",
       "0  Engineering Systems Analyst Dorking Surrey Sal...   \n",
       "1  Stress Engineer Glasgow Salary **** to **** We...   \n",
       "2  Mathematical Modeller / Simulation Analyst / O...   \n",
       "3  Engineering Systems Analyst / Mathematical Mod...   \n",
       "4  Pioneer, Miser  Engineering Systems Analyst Do...   \n",
       "\n",
       "                         LocationRaw LocationNormalized ContractType  \\\n",
       "0            Dorking, Surrey, Surrey            Dorking          NaN   \n",
       "1        Glasgow, Scotland, Scotland            Glasgow          NaN   \n",
       "2  Hampshire, South East, South East          Hampshire          NaN   \n",
       "3     Surrey, South East, South East             Surrey          NaN   \n",
       "4     Surrey, South East, South East             Surrey          NaN   \n",
       "\n",
       "  ContractTime                       Company          Category  \\\n",
       "0    permanent  Gregory Martin International  Engineering Jobs   \n",
       "1    permanent  Gregory Martin International  Engineering Jobs   \n",
       "2    permanent  Gregory Martin International  Engineering Jobs   \n",
       "3    permanent  Gregory Martin International  Engineering Jobs   \n",
       "4    permanent  Gregory Martin International  Engineering Jobs   \n",
       "\n",
       "                                SalaryRaw  SalaryNormalized        SourceName  \n",
       "0              20000 - 30000/annum 20-30K             25000  cv-library.co.uk  \n",
       "1              25000 - 35000/annum 25-35K             30000  cv-library.co.uk  \n",
       "2              20000 - 40000/annum 20-40K             30000  cv-library.co.uk  \n",
       "3  25000 - 30000/annum 25K-30K negotiable             27500  cv-library.co.uk  \n",
       "4              20000 - 30000/annum 20-30K             25000  cv-library.co.uk  "
      ]
     },
     "execution_count": 3,
     "metadata": {},
     "output_type": "execute_result"
    }
   ],
   "source": [
    "Salaries.head()"
   ]
  },
  {
   "cell_type": "markdown",
   "metadata": {},
   "source": [
    "Data prep function - explanations for each step provided below"
   ]
  },
  {
   "cell_type": "code",
   "execution_count": 16,
   "metadata": {
    "collapsed": true
   },
   "outputs": [],
   "source": [
    "# Function to Clean Data - Explanations Provided in Cells Below\n",
    "\n",
    "def clean_null(Salaries):\n",
    "    Salaries.dropna(subset=['Title'],inplace=True)\n",
    "    Salaries['ContractType'].fillna(Salaries['ContractType'].mode()[0],inplace=True)\n",
    "    Salaries.loc[Salaries['ContractTime'].isnull(), 'ContractTime'] = 'Unknown'\n",
    "    Salaries.loc[Salaries['Company'].isnull(), 'Company'] = 'Unknown'\n",
    "    return Salaries"
   ]
  },
  {
   "cell_type": "code",
   "execution_count": 5,
   "metadata": {
    "collapsed": true
   },
   "outputs": [],
   "source": [
    "def featurize(Salaries_Train, Salaries_Test):\n",
    "\n",
    "    vectorizer = CountVectorizer(analyzer = \"word\", \n",
    "                                 tokenizer = None, \n",
    "                                 preprocessor = None, \n",
    "                                 stop_words = 'english', \n",
    "                                 max_features = 200,\n",
    "                                 ngram_range = (1,2))\\\n",
    "                                .fit(Salaries_Train['FullDescription']) \n",
    "    \n",
    "    train_words = vectorizer.transform(Salaries_Train['FullDescription'])\n",
    "    test_words = vectorizer.transform(Salaries_Test['FullDescription'])\n",
    "    \n",
    "    title_vectorizer = vectorizer = CountVectorizer(analyzer = \"word\", tokenizer = None, \n",
    "                                                preprocessor = None, \n",
    "                                                stop_words = 'english', \n",
    "                                                max_features = 200,\n",
    "                                                ngram_range = (2,3))\\\n",
    "                                                .fit(Salaries_Train['Title'])\n",
    "\n",
    "    train_title_words = title_vectorizer.transform(Salaries_Train['Title'])\n",
    "    test_title_words = title_vectorizer.transform(Salaries_Test['Title'])\n",
    "    \n",
    "    location_counts = Salaries_Train.LocationNormalized.value_counts()\n",
    "    value_mask = Salaries_Train.LocationNormalized.isin(location_counts.index[location_counts < 100])\n",
    "    Salaries_Train.loc[value_mask,'LocationNormalized'] = \"Other\"\n",
    "    Salaries_Test.loc[Salaries_Test.LocationNormalized.isin(list(location_counts.index[location_counts > 100])) == False,\\\n",
    "                      \"LocationNormalized\"] = \"Other\"\n",
    "    \n",
    "    Salaries_Train = pd.get_dummies(data=Salaries_Train, columns=['LocationNormalized', 'ContractType','Category','ContractTime'])\n",
    "    Salaries_Test = pd.get_dummies(data=Salaries_Test, columns=['LocationNormalized', 'ContractType','Category','ContractTime'])\n",
    "    \n",
    "    \n",
    "    # In case there are missing columns in Test\n",
    "    missing_cols = set( Salaries_Train.columns ) - set(Salaries_Test.columns )\n",
    "    for column in missing_cols:\n",
    "        Salaries_Test[column] = 0\n",
    "    Salaries_Test = Salaries_Test[Salaries_Train.columns]\n",
    " \n",
    "    #Combine all features into sparse dataframe\n",
    "    \n",
    "    #TRAIN -------------------------------------------------------\n",
    "\n",
    "    features_train = Salaries_Train.drop(['FullDescription',\n",
    "                         'Title','Id','LocationRaw','Company',\n",
    "                         'SalaryRaw','SourceName'], axis=1)\n",
    "    title_train =  pd.DataFrame(data = train_title_words.toarray(), columns = title_vectorizer.get_feature_names())\n",
    "    description_train = pd.DataFrame(data = train_words.toarray(), columns = vectorizer.get_feature_names())\n",
    "\n",
    "    features_train.reset_index(drop=True, inplace=True)\n",
    "    title_train.reset_index(drop=True, inplace=True)\n",
    "    description_train.reset_index(drop=True, inplace=True)\n",
    "\n",
    "    Salaries_Train = pd.concat([features_train,title_train,description_train], axis = 1)\n",
    "    \n",
    "    Salaries_Y = Salaries_Train['SalaryNormalized']\n",
    "    Salaries_X = Salaries_Train.drop(['SalaryNormalized'], axis=1)\n",
    "    \n",
    "     #TEST -------------------------------------------------------\n",
    "\n",
    "    features_test = Salaries_Test.drop(['FullDescription',\n",
    "                         'Title','Id','LocationRaw','Company',\n",
    "                         'SalaryRaw','SourceName'], axis=1)\n",
    "    title_test =  pd.DataFrame(data = test_title_words.toarray(), columns = title_vectorizer.get_feature_names())\n",
    "    description_test = pd.DataFrame(data = test_words.toarray(), columns = vectorizer.get_feature_names())\n",
    "\n",
    "    features_test.reset_index(drop=True, inplace=True)\n",
    "    title_test.reset_index(drop=True, inplace=True)\n",
    "    description_test.reset_index(drop=True, inplace=True)\n",
    "\n",
    "    Salaries_Test = pd.concat([features_test,title_test,description_test], axis = 1)\n",
    "    \n",
    "    Salaries_Y_Test = Salaries_Test['SalaryNormalized']\n",
    "    Salaries_X_Test = Salaries_Test.drop(['SalaryNormalized'], axis=1)\n",
    "\n",
    "    return Salaries_X, Salaries_Y, Salaries_X_Test, Salaries_Y_Test"
   ]
  },
  {
   "cell_type": "code",
   "execution_count": 17,
   "metadata": {
    "collapsed": true
   },
   "outputs": [
    {
     "name": "stderr",
     "output_type": "stream",
     "text": [
      "/home/jupyterlab/conda/lib/python3.6/site-packages/ipykernel_launcher.py:4: SettingWithCopyWarning: \n",
      "A value is trying to be set on a copy of a slice from a DataFrame\n",
      "\n",
      "See the caveats in the documentation: http://pandas.pydata.org/pandas-docs/stable/indexing.html#indexing-view-versus-copy\n",
      "  after removing the cwd from sys.path.\n",
      "/home/jupyterlab/conda/lib/python3.6/site-packages/pandas/core/generic.py:5430: SettingWithCopyWarning: \n",
      "A value is trying to be set on a copy of a slice from a DataFrame\n",
      "\n",
      "See the caveats in the documentation: http://pandas.pydata.org/pandas-docs/stable/indexing.html#indexing-view-versus-copy\n",
      "  self._update_inplace(new_data)\n",
      "/home/jupyterlab/conda/lib/python3.6/site-packages/pandas/core/indexing.py:543: SettingWithCopyWarning: \n",
      "A value is trying to be set on a copy of a slice from a DataFrame.\n",
      "Try using .loc[row_indexer,col_indexer] = value instead\n",
      "\n",
      "See the caveats in the documentation: http://pandas.pydata.org/pandas-docs/stable/indexing.html#indexing-view-versus-copy\n",
      "  self.obj[item] = s\n"
     ]
    }
   ],
   "source": [
    "Salaries_Train = clean_null(Salaries_Train)\n",
    "Salaries_Test = clean_null(Salaries_Test)"
   ]
  },
  {
   "cell_type": "code",
   "execution_count": 18,
   "metadata": {
    "collapsed": true
   },
   "outputs": [
    {
     "name": "stderr",
     "output_type": "stream",
     "text": [
      "/home/jupyterlab/conda/lib/python3.6/site-packages/pandas/core/indexing.py:543: SettingWithCopyWarning: \n",
      "A value is trying to be set on a copy of a slice from a DataFrame.\n",
      "Try using .loc[row_indexer,col_indexer] = value instead\n",
      "\n",
      "See the caveats in the documentation: http://pandas.pydata.org/pandas-docs/stable/indexing.html#indexing-view-versus-copy\n",
      "  self.obj[item] = s\n"
     ]
    }
   ],
   "source": [
    "Salaries_X, Salaries_Y, Salaries_X_Test, Salaries_Y_Test = featurize(Salaries_Train, Salaries_Test)"
   ]
  },
  {
   "cell_type": "code",
   "execution_count": 19,
   "metadata": {},
   "outputs": [
    {
     "data": {
      "text/plain": [
       "(5940, 447)"
      ]
     },
     "execution_count": 19,
     "metadata": {},
     "output_type": "execute_result"
    }
   ],
   "source": [
    "Salaries_X_Test.shape"
   ]
  },
  {
   "cell_type": "markdown",
   "metadata": {},
   "source": [
    "## Logic for Data Prep "
   ]
  },
  {
   "cell_type": "markdown",
   "metadata": {},
   "source": [
    "1 a) - Cleaning NaN "
   ]
  },
  {
   "cell_type": "code",
   "execution_count": 20,
   "metadata": {
    "collapsed": true
   },
   "outputs": [],
   "source": [
    "Salaries = pd.read_csv(\"Salary_Train_sample.csv\", encoding = \"ISO-8859-1\") "
   ]
  },
  {
   "cell_type": "code",
   "execution_count": 21,
   "metadata": {},
   "outputs": [
    {
     "data": {
      "text/plain": [
       "Id                        0\n",
       "Title                     1\n",
       "FullDescription           0\n",
       "LocationRaw               0\n",
       "LocationNormalized        0\n",
       "ContractType          10780\n",
       "ContractTime           8893\n",
       "Company                6111\n",
       "Category                  0\n",
       "SalaryRaw                 0\n",
       "SalaryNormalized          0\n",
       "SourceName                0\n",
       "dtype: int64"
      ]
     },
     "execution_count": 21,
     "metadata": {},
     "output_type": "execute_result"
    }
   ],
   "source": [
    "# See how many null values are in each column\n",
    "Salaries.isnull().sum(axis=0)"
   ]
  },
  {
   "cell_type": "code",
   "execution_count": 22,
   "metadata": {},
   "outputs": [
    {
     "data": {
      "text/html": [
       "<div>\n",
       "<style scoped>\n",
       "    .dataframe tbody tr th:only-of-type {\n",
       "        vertical-align: middle;\n",
       "    }\n",
       "\n",
       "    .dataframe tbody tr th {\n",
       "        vertical-align: top;\n",
       "    }\n",
       "\n",
       "    .dataframe thead th {\n",
       "        text-align: right;\n",
       "    }\n",
       "</style>\n",
       "<table border=\"1\" class=\"dataframe\">\n",
       "  <thead>\n",
       "    <tr style=\"text-align: right;\">\n",
       "      <th></th>\n",
       "      <th>Id</th>\n",
       "      <th>Title</th>\n",
       "      <th>FullDescription</th>\n",
       "      <th>LocationRaw</th>\n",
       "      <th>LocationNormalized</th>\n",
       "      <th>ContractType</th>\n",
       "      <th>ContractTime</th>\n",
       "      <th>Company</th>\n",
       "      <th>Category</th>\n",
       "      <th>SalaryRaw</th>\n",
       "      <th>SalaryNormalized</th>\n",
       "      <th>SourceName</th>\n",
       "    </tr>\n",
       "  </thead>\n",
       "  <tbody>\n",
       "    <tr>\n",
       "      <th>1588</th>\n",
       "      <td>48271669</td>\n",
       "      <td>NaN</td>\n",
       "      <td>Quality Improvement Manager North West England...</td>\n",
       "      <td>Liverpool, Merseyside</td>\n",
       "      <td>Liverpool</td>\n",
       "      <td>full_time</td>\n",
       "      <td>NaN</td>\n",
       "      <td>NaN</td>\n",
       "      <td>Healthcare &amp; Nursing Jobs</td>\n",
       "      <td>40,000 to 45,000 per year</td>\n",
       "      <td>42500</td>\n",
       "      <td>careworx.co.uk</td>\n",
       "    </tr>\n",
       "  </tbody>\n",
       "</table>\n",
       "</div>"
      ],
      "text/plain": [
       "            Id Title                                    FullDescription  \\\n",
       "1588  48271669   NaN  Quality Improvement Manager North West England...   \n",
       "\n",
       "                LocationRaw LocationNormalized ContractType ContractTime  \\\n",
       "1588  Liverpool, Merseyside          Liverpool    full_time          NaN   \n",
       "\n",
       "     Company                   Category                  SalaryRaw  \\\n",
       "1588     NaN  Healthcare & Nursing Jobs  40,000 to 45,000 per year   \n",
       "\n",
       "      SalaryNormalized      SourceName  \n",
       "1588             42500  careworx.co.uk  "
      ]
     },
     "execution_count": 22,
     "metadata": {},
     "output_type": "execute_result"
    }
   ],
   "source": [
    "Salaries[Salaries['Title'].isna()]"
   ]
  },
  {
   "cell_type": "code",
   "execution_count": 23,
   "metadata": {
    "collapsed": true
   },
   "outputs": [],
   "source": [
    "# There are very few cases where the title is not provided, therefore these will be simply removed\n",
    "Salaries = Salaries.dropna(subset=['Title'])"
   ]
  },
  {
   "cell_type": "code",
   "execution_count": 24,
   "metadata": {
    "collapsed": true
   },
   "outputs": [],
   "source": [
    "# could drop rows (or columns) above a certain number of nulls \n",
    "# thresh = Require that many non-NA values.\n",
    "Salaries.dropna(axis=0, how='any', thresh=9, subset=None, inplace=True)"
   ]
  },
  {
   "cell_type": "code",
   "execution_count": 25,
   "metadata": {},
   "outputs": [
    {
     "data": {
      "text/plain": [
       "array([nan, 'full_time', 'part_time'], dtype=object)"
      ]
     },
     "execution_count": 25,
     "metadata": {},
     "output_type": "execute_result"
    }
   ],
   "source": [
    "# There are a lot of null ContractType positions\n",
    "Salaries['ContractType'].unique()"
   ]
  },
  {
   "cell_type": "code",
   "execution_count": 26,
   "metadata": {},
   "outputs": [
    {
     "data": {
      "text/plain": [
       "full_time    0.842083\n",
       "part_time    0.157917\n",
       "Name: ContractType, dtype: float64"
      ]
     },
     "execution_count": 26,
     "metadata": {},
     "output_type": "execute_result"
    }
   ],
   "source": [
    "# Can see that most Contract Types are full-time\n",
    "Salaries['ContractType'].value_counts(normalize=True)"
   ]
  },
  {
   "cell_type": "code",
   "execution_count": 27,
   "metadata": {},
   "outputs": [
    {
     "name": "stdout",
     "output_type": "stream",
     "text": [
      "                                   Alldata  NaN ContractType\n",
      "Accounting & Finance Jobs         0.064559          0.059091\n",
      "Admin Jobs                        0.025501          0.020501\n",
      "Charity & Voluntary Jobs          0.007889          0.006772\n",
      "Consultancy Jobs                  0.012334          0.008813\n",
      "Creative & Design Jobs            0.004000          0.001855\n",
      "Customer Services Jobs            0.026057          0.024861\n",
      "Domestic help & Cleaning Jobs     0.001056          0.001113\n",
      "Energy, Oil & Gas Jobs            0.004111          0.005473\n",
      "Engineering Jobs                  0.095172          0.115863\n",
      "Graduate Jobs                     0.001667          0.000742\n",
      "HR & Recruitment Jobs             0.042558          0.059740\n",
      "Healthcare & Nursing Jobs         0.223901          0.188683\n",
      "Hospitality & Catering Jobs       0.050447          0.064750\n",
      "IT Jobs                           0.149064          0.187662\n",
      "Legal Jobs                        0.009167          0.013451\n",
      "Logistics & Warehouse Jobs        0.021057          0.013729\n",
      "Maintenance Jobs                  0.010723          0.000278\n",
      "Manufacturing Jobs                0.021946          0.015492\n",
      "Other/General Jobs                0.040280          0.028479\n",
      "PR, Advertising & Marketing Jobs  0.021946          0.011688\n",
      "Property Jobs                     0.005334          0.008534\n",
      "Retail Jobs                       0.010112          0.012709\n",
      "Sales Jobs                        0.055836          0.070594\n",
      "Scientific & QA Jobs              0.010889          0.003618\n",
      "Social work Jobs                  0.009334          0.012987\n",
      "Teaching Jobs                     0.041058          0.031633\n",
      "Trade & Construction Jobs         0.023279          0.016790\n",
      "Travel Jobs                       0.010723          0.014100\n"
     ]
    }
   ],
   "source": [
    "# There are several methods to determine how to handle NaN values \n",
    "#- including dropping them, filling with mode or mean, or replacing with an \"Other\" value\n",
    "# start with data exploration - can check if there a pattern in where the NaN values appear or if the rows with NaN are randomly distributed\n",
    "\n",
    "# For Example - is the a pattern in job categories where NaN contract type appears or is it similar to the full data set?\n",
    "\n",
    "a = Salaries['Category'].value_counts(normalize=True)\n",
    "b = Salaries[Salaries['ContractType'].isnull()]['Category'].value_counts(normalize=True)\n",
    "print (pd.DataFrame({'Alldata': a, 'NaN ContractType':b}))"
   ]
  },
  {
   "cell_type": "code",
   "execution_count": 28,
   "metadata": {
    "collapsed": true
   },
   "outputs": [],
   "source": [
    "# fill contracttype with mode\n",
    "Salaries['ContractType'].fillna(Salaries['ContractType'].mode()[0],inplace=True)"
   ]
  },
  {
   "cell_type": "code",
   "execution_count": 29,
   "metadata": {},
   "outputs": [],
   "source": [
    "#Contract time"
   ]
  },
  {
   "cell_type": "code",
   "execution_count": 30,
   "metadata": {},
   "outputs": [
    {
     "data": {
      "text/plain": [
       "permanent    0.845833\n",
       "contract     0.154167\n",
       "Name: ContractTime, dtype: float64"
      ]
     },
     "execution_count": 30,
     "metadata": {},
     "output_type": "execute_result"
    }
   ],
   "source": [
    "Salaries['ContractTime'].value_counts(normalize=True)"
   ]
  },
  {
   "cell_type": "code",
   "execution_count": 31,
   "metadata": {},
   "outputs": [
    {
     "name": "stdout",
     "output_type": "stream",
     "text": [
      "                                   Alldata  NaN ContractTime\n",
      "Accounting & Finance Jobs         0.064559          0.044647\n",
      "Admin Jobs                        0.025501          0.037000\n",
      "Charity & Voluntary Jobs          0.007889          0.001350\n",
      "Consultancy Jobs                  0.012334          0.015857\n",
      "Creative & Design Jobs            0.004000          0.002474\n",
      "Customer Services Jobs            0.026057          0.033288\n",
      "Domestic help & Cleaning Jobs     0.001056          0.001462\n",
      "Energy, Oil & Gas Jobs            0.004111          0.003036\n",
      "Engineering Jobs                  0.095172          0.037562\n",
      "Graduate Jobs                     0.001667          0.002474\n",
      "HR & Recruitment Jobs             0.042558          0.036550\n",
      "Healthcare & Nursing Jobs         0.223901          0.419703\n",
      "Hospitality & Catering Jobs       0.050447          0.091430\n",
      "IT Jobs                           0.149064          0.021480\n",
      "Legal Jobs                        0.009167          0.011359\n",
      "Logistics & Warehouse Jobs        0.021057          0.029802\n",
      "Maintenance Jobs                  0.010723          0.019568\n",
      "Manufacturing Jobs                0.021946          0.023054\n",
      "Other/General Jobs                0.040280          0.038574\n",
      "PR, Advertising & Marketing Jobs  0.021946          0.013495\n",
      "Property Jobs                     0.005334          0.004611\n",
      "Retail Jobs                       0.010112          0.003261\n",
      "Sales Jobs                        0.055836          0.038574\n",
      "Scientific & QA Jobs              0.010889          0.007872\n",
      "Social work Jobs                  0.009334          0.006973\n",
      "Teaching Jobs                     0.041058          0.032051\n",
      "Trade & Construction Jobs         0.023279          0.022155\n",
      "Travel Jobs                       0.010723          0.000337\n"
     ]
    }
   ],
   "source": [
    "# Comparing job categories for rows with NaN contract time \n",
    "a = Salaries['Category'].value_counts(normalize=True)\n",
    "b = Salaries[Salaries['ContractTime'].isnull()]['Category'].value_counts(normalize=True)\n",
    "print (pd.DataFrame({'Alldata': a, 'NaN ContractTime':b}))"
   ]
  },
  {
   "cell_type": "markdown",
   "metadata": {},
   "source": [
    "There is a higher proportion of jobs in healthcare, hospitality and catering and 'other' where the contract time is NaN. Although this may require some futher exploration, we will now fill them with a filler 'Unknown' variable."
   ]
  },
  {
   "cell_type": "code",
   "execution_count": 32,
   "metadata": {
    "collapsed": true
   },
   "outputs": [],
   "source": [
    "Salaries.loc[Salaries['ContractTime'].isnull(), 'ContractTime'] = 'Unknown'"
   ]
  },
  {
   "cell_type": "code",
   "execution_count": 33,
   "metadata": {},
   "outputs": [
    {
     "data": {
      "text/plain": [
       "86     An exciting job opportunity has arisen to work...\n",
       "93     Job Title: Java Developer Location: Yorkshire ...\n",
       "113    Transaction Services Executive ****  **** plus...\n",
       "114    Audit Senior **** Bristol My client, a reputab...\n",
       "115    Audit Assistant Manager Bristol **** **** This...\n",
       "120    Sales Account Executive Basingstoke Salary ***...\n",
       "130    Excellent new job and career opportunity for a...\n",
       "137    Barclays are hiring. Future Leaders Developmen...\n",
       "153    Our client, a global service provider, require...\n",
       "182    Support Worker Job Chepstow We are a leading p...\n",
       "Name: FullDescription, dtype: object"
      ]
     },
     "execution_count": 33,
     "metadata": {},
     "output_type": "execute_result"
    }
   ],
   "source": [
    "# Next, missing Company Names are dealt with \n",
    "Salaries[Salaries['Company'].isnull()]['FullDescription'][0:10] "
   ]
  },
  {
   "cell_type": "markdown",
   "metadata": {},
   "source": [
    "Some data exploration shows that missing companies names are caused by a variety of factors - Some posings may have the company name in the full description, while others are third party recruiters, recruiting for a client. NaNs will be filled with a 'Unknown' value. This value might capture recruitment by a third party. This could be further refined - for example filling with 'Third Party' IF Description contains 'Client'."
   ]
  },
  {
   "cell_type": "code",
   "execution_count": 34,
   "metadata": {
    "collapsed": true
   },
   "outputs": [],
   "source": [
    "Salaries.loc[Salaries['Company'].isnull(), 'Company'] = 'Unknown'"
   ]
  },
  {
   "cell_type": "markdown",
   "metadata": {},
   "source": [
    "1 b) Cleaning Text Data"
   ]
  },
  {
   "cell_type": "markdown",
   "metadata": {},
   "source": [
    "The dataset contains a significant amount of uncleaned and unstructured text in the 'Title' and 'Full Description' columns.\n",
    "A simple approach would be to clean up the text, remove stop words, and do one-hot encoding using countvectorizer. "
   ]
  },
  {
   "cell_type": "code",
   "execution_count": 35,
   "metadata": {
    "collapsed": true
   },
   "outputs": [],
   "source": [
    "vectorizer = CountVectorizer(analyzer = \"word\", \n",
    "                             tokenizer = None, \n",
    "                             preprocessor = None, \n",
    "                             stop_words = 'english', \n",
    "                             max_features = 200,\n",
    "                             ngram_range = (1,2)) "
   ]
  },
  {
   "cell_type": "code",
   "execution_count": 36,
   "metadata": {
    "collapsed": true
   },
   "outputs": [],
   "source": [
    "Words = vectorizer.fit_transform(Salaries['FullDescription'])"
   ]
  },
  {
   "cell_type": "code",
   "execution_count": 37,
   "metadata": {},
   "outputs": [
    {
     "name": "stdout",
     "output_type": "stream",
     "text": [
      "['ability', 'able', 'agency', 'applicants', 'application', 'applications', 'apply', 'appropriate', 'area', 'areas', 'assist', 'available', 'background', 'based', 'basis', 'benefits', 'best', 'business', 'candidate', 'candidates', 'care', 'career', 'chef', 'client', 'clients']\n"
     ]
    }
   ],
   "source": [
    "print(vectorizer.get_feature_names()[0:25])"
   ]
  },
  {
   "cell_type": "markdown",
   "metadata": {},
   "source": [
    "The most common words seem to be relevant to salary information, although more stopwords could possibly be added to list. A better approach may be to set a high # of max_features and run a linear regression for feature selection. "
   ]
  },
  {
   "cell_type": "markdown",
   "metadata": {},
   "source": [
    "Several of the most frequent words such 'car,'linux','worker','digital' look like they belong to a sequence of words, so the vectorizer could benefit from using n - grams."
   ]
  },
  {
   "cell_type": "code",
   "execution_count": 38,
   "metadata": {},
   "outputs": [
    {
     "name": "stdout",
     "output_type": "stream",
     "text": [
      "['account director', 'account executive', 'account manager', 'accounts assistant', 'assistant job', 'assistant jobs', 'assistant manager', 'award winning', 'branch manager', 'building services']\n"
     ]
    }
   ],
   "source": [
    "title_vectorizer = CountVectorizer(analyzer = \"word\", tokenizer = None, \n",
    "                                                preprocessor = None, \n",
    "                                                stop_words = 'english', \n",
    "                                                max_features = 200,\n",
    "                                                ngram_range = (2,3))\n",
    "\n",
    "Title_Words = title_vectorizer.fit_transform(Salaries['Title'])\n",
    "print(title_vectorizer.get_feature_names()[0:10])"
   ]
  },
  {
   "cell_type": "markdown",
   "metadata": {},
   "source": [
    "The features from n-grams seem more appropriate."
   ]
  },
  {
   "cell_type": "code",
   "execution_count": 39,
   "metadata": {
    "collapsed": true
   },
   "outputs": [],
   "source": [
    "#Salaries.Company.value_counts()"
   ]
  },
  {
   "cell_type": "code",
   "execution_count": 40,
   "metadata": {},
   "outputs": [
    {
     "data": {
      "text/plain": [
       "1198"
      ]
     },
     "execution_count": 40,
     "metadata": {},
     "output_type": "execute_result"
    }
   ],
   "source": [
    "Salaries.LocationNormalized.nunique()"
   ]
  },
  {
   "cell_type": "markdown",
   "metadata": {},
   "source": [
    "Because there are a lot of unique company names, it may be excessive to get dummies for each one, and there may not be enough examples of each company name to be significant in model training. An option would be to get dummy variables for the top 100 most popular companies or companies above a threshold count."
   ]
  },
  {
   "cell_type": "markdown",
   "metadata": {},
   "source": [
    "There is also a significant amount of unique Company locations (2000+). To allow the models to run in reasonable time and eliminate locations that only appear once, we will only consider locations that appear above a certain frequency. Everything else we can replace with \"Other\"."
   ]
  },
  {
   "cell_type": "code",
   "execution_count": 41,
   "metadata": {},
   "outputs": [
    {
     "data": {
      "text/plain": [
       "26"
      ]
     },
     "execution_count": 41,
     "metadata": {},
     "output_type": "execute_result"
    }
   ],
   "source": [
    "location_counts = Salaries.LocationNormalized.value_counts()\n",
    "value_mask = Salaries.LocationNormalized.isin(location_counts.index[location_counts < 100])\n",
    "Salaries.loc[value_mask,'LocationNormalized'] = \"Other\"\n",
    "Salaries.LocationNormalized.nunique()"
   ]
  },
  {
   "cell_type": "code",
   "execution_count": 42,
   "metadata": {
    "collapsed": true
   },
   "outputs": [],
   "source": [
    "# Since the other features are categorical and not ordinal they can be encoded using dummy variables.\n",
    "Salaries = pd.get_dummies(data=Salaries, columns=['LocationNormalized', 'ContractType','Category','ContractTime'])"
   ]
  },
  {
   "cell_type": "markdown",
   "metadata": {},
   "source": [
    "1c) Combining Features"
   ]
  },
  {
   "cell_type": "code",
   "execution_count": 43,
   "metadata": {
    "collapsed": true
   },
   "outputs": [],
   "source": [
    "# Combine all feautures - Option One, Combine Into Matrix\n",
    "features = Salaries.drop(['FullDescription',\n",
    "                         'Title','Id','LocationRaw','Company',\n",
    "                         'SalaryRaw','SalaryNormalized','SourceName'], axis=1).values\n",
    "\n",
    "Title_Features = Title_Words.toarray()\n",
    "Description_Features = Words.toarray()\n",
    "\n",
    "all_features = np.hstack([features, Title_Features, Description_Features])"
   ]
  },
  {
   "cell_type": "code",
   "execution_count": 44,
   "metadata": {
    "collapsed": true
   },
   "outputs": [],
   "source": [
    "#Combine all features - Option Two, Combine Into Sparse Dataframe\n",
    "\n",
    "features = Salaries.drop(['FullDescription',\n",
    "                         'Title','Id','LocationRaw','Company',\n",
    "                         'SalaryRaw','SalaryNormalized','SourceName'], axis=1)\n",
    "title =  pd.DataFrame(data = Title_Words.toarray(), columns = title_vectorizer.get_feature_names())\n",
    "description = pd.DataFrame(data = Words.toarray(), columns = vectorizer.get_feature_names())\n",
    "\n",
    "features.reset_index(drop=True, inplace=True)\n",
    "title.reset_index(drop=True, inplace=True)\n",
    "description.reset_index(drop=True, inplace=True)\n",
    "\n",
    "Salaries_Feature = pd.concat([features,title,description], axis = 1)"
   ]
  },
  {
   "cell_type": "markdown",
   "metadata": {},
   "source": [
    "# 2 Exploratory Data Analysis"
   ]
  },
  {
   "cell_type": "markdown",
   "metadata": {},
   "source": [
    "An example of visualization"
   ]
  },
  {
   "cell_type": "code",
   "execution_count": 45,
   "metadata": {
    "collapsed": true
   },
   "outputs": [],
   "source": [
    "Salaries_Plot = pd.read_csv(\"Salary_Train_sample.csv\", encoding = \"ISO-8859-1\")"
   ]
  },
  {
   "cell_type": "code",
   "execution_count": 46,
   "metadata": {},
   "outputs": [
    {
     "data": {
      "image/png": "[encoded data removed]",
      "text/plain": [
       "<Figure size 432x288 with 1 Axes>"
      ]
     },
     "metadata": {},
     "output_type": "display_data"
    }
   ],
   "source": [
    "%matplotlib inline\n",
    "\n",
    "plt.hist(Salaries_Plot['SalaryNormalized'], bins=10, edgecolor='black')\n",
    "plt.title(\"Salary Histogram 10 bins\")\n",
    "plt.xlabel(\"Salary Bin\")\n",
    "plt.ylabel(\"Number of Samples\")\n",
    "plt.show()"
   ]
  },
  {
   "cell_type": "markdown",
   "metadata": {},
   "source": [
    "# 3 Model Implementation"
   ]
  },
  {
   "cell_type": "code",
   "execution_count": 55,
   "metadata": {
    "collapsed": true
   },
   "outputs": [],
   "source": [
    "#set up cross validation\n",
    "\n",
    "def run_kfold(model):\n",
    "    \n",
    "    X = Salaries_X\n",
    "    Y = Salaries_Y\n",
    "    \n",
    "    kf = KFold(n_splits=10) #n_splits previously n_folds\n",
    "    \n",
    "    outcomes = []\n",
    "    fold = 0\n",
    "    \n",
    "    for train_index, test_index in kf.split(X):\n",
    "        fold += 1\n",
    "        X_train, X_test = X.values[train_index], X.values[test_index]\n",
    "        Y_train, Y_test = Y.values[train_index], Y.values[test_index]\n",
    "        \n",
    "        model.fit(X_train, Y_train)\n",
    "        predictions = model.predict(X_test)\n",
    "        \n",
    "        accuracy = r2_score(Y_test, predictions) # can try mean absolute error instead\n",
    "        outcomes.append(accuracy)\n",
    "        print(\"Fold {0} accuracy: {1}\".format(fold, accuracy))   \n",
    "        \n",
    "    mean_outcome = np.mean(outcomes)\n",
    "    std_outcome=np.std(outcomes)\n",
    "    print(\"Mean r2: {0}\".format(mean_outcome)) \n",
    "    print(\"Standard Deviation: {0}\".format(std_outcome)) "
   ]
  },
  {
   "cell_type": "markdown",
   "metadata": {},
   "source": [
    "## 3 A Linear Regression"
   ]
  },
  {
   "cell_type": "code",
   "execution_count": 56,
   "metadata": {},
   "outputs": [
    {
     "name": "stdout",
     "output_type": "stream",
     "text": [
      "Fold 1 accuracy: 0.44198787412528384\n",
      "Fold 2 accuracy: 0.42667331572066847\n",
      "Fold 3 accuracy: 0.4187964154154524\n",
      "Fold 4 accuracy: 0.4410675259701794\n",
      "Fold 5 accuracy: 0.4721211396851078\n",
      "Fold 6 accuracy: -3.161524674820184e+19\n",
      "Fold 7 accuracy: 0.42205856790967733\n",
      "Fold 8 accuracy: 0.42300732623361026\n",
      "Fold 9 accuracy: 0.4375115805244886\n",
      "Fold 10 accuracy: 0.4919494121150183\n",
      "Mean r2: -3.161524674820184e+18\n",
      "Standard Deviation: 9.484574024460552e+18\n",
      "------------------\n",
      " Test Score: -4.153440167297881e+16\n"
     ]
    }
   ],
   "source": [
    "model_lr = linear_model.LinearRegression()\n",
    "run_kfold (model_lr)\n",
    "\n",
    "predictions = model_lr.predict(Salaries_X_Test)\n",
    "Test_Score = r2_score(Salaries_Y_Test, predictions)\n",
    "\n",
    "print (\"------------------\\n Test Score: \" + str(Test_Score))\n"
   ]
  },
  {
   "cell_type": "code",
   "execution_count": 57,
   "metadata": {},
   "outputs": [
    {
     "data": {
      "text/plain": [
       "73716941952.95564"
      ]
     },
     "execution_count": 57,
     "metadata": {},
     "output_type": "execute_result"
    }
   ],
   "source": [
    "mean_absolute_error(Salaries_Y_Test,predictions)"
   ]
  },
  {
   "cell_type": "markdown",
   "metadata": {},
   "source": [
    "Look at features and coefficients"
   ]
  },
  {
   "cell_type": "code",
   "execution_count": 58,
   "metadata": {},
   "outputs": [
    {
     "name": "stdout",
     "output_type": "stream",
     "text": [
      "[(-189145330868913.66, 'residential support'), (-129368853427200.22, 'snr recruitment'), (-59587921246985.78, 'care assistant jobs'), (-5883093587010.844, 'Category_Graduate Jobs'), (-5883093581208.922, 'Category_Domestic help & Cleaning Jobs'), (-5883093579085.2295, 'Category_Travel Jobs'), (-5883093576107.538, 'Category_Hospitality & Catering Jobs'), (-5883093576015.272, 'Category_Admin Jobs'), (-5883093575709.888, 'Category_Maintenance Jobs'), (-5883093575178.993, 'Category_Customer Services Jobs')]\n"
     ]
    }
   ],
   "source": [
    "print(sorted(list(zip(model_lr.coef_, Salaries_X)))[0:10])"
   ]
  },
  {
   "cell_type": "code",
   "execution_count": 45,
   "metadata": {},
   "outputs": [
    {
     "name": "stdout",
     "output_type": "stream",
     "text": [
      "[(269084521706091.22, 'snr recruitment consultant'), (83964293625.89809, 'LocationNormalized_The City'), (83964292098.72908, 'LocationNormalized_London'), (83964289354.63266, 'LocationNormalized_South East London'), (83964288985.9075, 'LocationNormalized_Central London'), (83964287822.8159, 'LocationNormalized_Hertfordshire'), (83964286457.66087, 'LocationNormalized_Edinburgh'), (83964286434.57489, 'LocationNormalized_West Midlands'), (83964286367.19148, 'LocationNormalized_Reading'), (83964286176.97104, 'LocationNormalized_Berkshire')]\n"
     ]
    }
   ],
   "source": [
    "print(sorted(list(zip(model_lr.coef_, Salaries_X)),reverse=True)[0:10])"
   ]
  },
  {
   "cell_type": "markdown",
   "metadata": {},
   "source": [
    "Coefficients seem very high, try regulatization and feature elimination. "
   ]
  },
  {
   "cell_type": "markdown",
   "metadata": {},
   "source": [
    "# Feature Selection"
   ]
  },
  {
   "cell_type": "markdown",
   "metadata": {},
   "source": [
    "### Recursive Feature Elimination"
   ]
  },
  {
   "cell_type": "markdown",
   "metadata": {},
   "source": [
    "scikit-learn:\n",
    "\n",
    "Given an external estimator that assigns weights to features (e.g., the coefficients of a linear model), the goal of recursive feature elimination (RFE) is to select features by recursively considering smaller and smaller sets of features. First, the estimator is trained on the initial set of features and the importance of each feature is obtained either through a coef_ attribute or through a feature_importances_ attribute. Then, the least important features are pruned from current set of features. That procedure is recursively repeated on the pruned set until the desired number of features to select is eventually reached.\n",
    "\n",
    "https://scikit-learn.org/stable/modules/generated/sklearn.feature_selection.RFE.html"
   ]
  },
  {
   "cell_type": "code",
   "execution_count": 59,
   "metadata": {
    "collapsed": true
   },
   "outputs": [],
   "source": [
    "rfe = RFE(model_lr)\n",
    "fit = rfe.fit(Salaries_X[0:10000], Salaries_Y[0:10000]) #Sampling because of slow run time"
   ]
  },
  {
   "cell_type": "code",
   "execution_count": 60,
   "metadata": {},
   "outputs": [
    {
     "data": {
      "text/plain": [
       "[(1, 'LocationNormalized_Belfast'),\n",
       " (1, 'LocationNormalized_Hampshire'),\n",
       " (1, 'LocationNormalized_Leeds'),\n",
       " (1, 'LocationNormalized_Liverpool'),\n",
       " (1, 'LocationNormalized_London'),\n",
       " (1, 'LocationNormalized_Sheffield'),\n",
       " (3, 'LocationNormalized_Manchester'),\n",
       " (33, 'LocationNormalized_Other'),\n",
       " (67, 'LocationNormalized_Bristol'),\n",
       " (149, 'LocationNormalized_Birmingham')]"
      ]
     },
     "execution_count": 60,
     "metadata": {},
     "output_type": "execute_result"
    }
   ],
   "source": [
    "sorted(list(zip(fit.ranking_,Salaries_X))[0:10])"
   ]
  },
  {
   "cell_type": "markdown",
   "metadata": {},
   "source": [
    "### Lasso Regularization"
   ]
  },
  {
   "cell_type": "markdown",
   "metadata": {},
   "source": [
    "Linear Model trained with L1 prior as regularizer (aka the Lasso)\n",
    "\n",
    "#https://scikit-learn.org/stable/modules/generated/sklearn.linear_model.Lasso.html"
   ]
  },
  {
   "cell_type": "code",
   "execution_count": 61,
   "metadata": {},
   "outputs": [
    {
     "data": {
      "text/plain": [
       "0.4808442783580813"
      ]
     },
     "execution_count": 61,
     "metadata": {},
     "output_type": "execute_result"
    }
   ],
   "source": [
    "reg = linear_model.Lasso(alpha = 0.5,max_iter=10000)\n",
    "reg.fit(Salaries_X, Salaries_Y)\n",
    "reg.score(Salaries_X, Salaries_Y)"
   ]
  },
  {
   "cell_type": "markdown",
   "metadata": {},
   "source": [
    "Example of Grid Search"
   ]
  },
  {
   "cell_type": "code",
   "execution_count": 74,
   "metadata": {},
   "outputs": [],
   "source": [
    "from sklearn.metrics import make_scorer, r2_score, confusion_matrix\n",
    "\n",
    "reg_gridsearch = linear_model.Lasso(random_state=42)\n",
    "#Parameters to test\n",
    "parameters = {'alpha':[0.5,1,3], # Constant that multiplies the L1 term. Defaults to 1.0.\n",
    "             'normalize':[True,False]} #\n",
    "\n",
    "# Compare parameters by score of model \n",
    "acc_scorer_lm = make_scorer(r2_score)\n",
    "\n",
    "# Run the grid search\n",
    "grid_obj_lm = GridSearchCV(reg_gridsearch, parameters, scoring=acc_scorer_lm)\n",
    "grid_obj_lm = grid_obj_lm.fit(Salaries_X, Salaries_Y)\n",
    "\n",
    "reg_gridsearch = grid_obj_lm.best_estimator_  #Select best parameter combination"
   ]
  },
  {
   "cell_type": "code",
   "execution_count": 78,
   "metadata": {},
   "outputs": [
    {
     "data": {
      "text/plain": [
       "Lasso(alpha=0.5, copy_X=True, fit_intercept=True, max_iter=1000,\n",
       "   normalize=True, positive=False, precompute=False, random_state=42,\n",
       "   selection='cyclic', tol=0.0001, warm_start=False)"
      ]
     },
     "execution_count": 78,
     "metadata": {},
     "output_type": "execute_result"
    }
   ],
   "source": [
    "reg_gridsearch # print out the optimal params so grid search does not need to be rerun"
   ]
  },
  {
   "cell_type": "code",
   "execution_count": 80,
   "metadata": {},
   "outputs": [
    {
     "data": {
      "text/plain": [
       "0.47594535607371935"
      ]
     },
     "execution_count": 80,
     "metadata": {},
     "output_type": "execute_result"
    }
   ],
   "source": [
    "reg_gridsearch.fit(Salaries_X, Salaries_Y)\n",
    "reg_gridsearch.score(Salaries_X, Salaries_Y)"
   ]
  },
  {
   "cell_type": "markdown",
   "metadata": {},
   "source": [
    "Print optimal parameters "
   ]
  },
  {
   "cell_type": "code",
   "execution_count": 81,
   "metadata": {},
   "outputs": [
    {
     "name": "stdout",
     "output_type": "stream",
     "text": [
      "alpha (Constant that multiplies the L1 term): 0.5\n",
      "normalize: True\n"
     ]
    }
   ],
   "source": [
    "print('alpha (Constant that multiplies the L1 term):',grid_obj_lm.best_estimator_.alpha) \n",
    "print('normalize:',grid_obj_lm.best_estimator_.normalize)"
   ]
  },
  {
   "cell_type": "code",
   "execution_count": 96,
   "metadata": {
    "collapsed": true
   },
   "outputs": [],
   "source": [
    "predictions_lasso=reg_gridsearch.predict(Salaries_X_Test)"
   ]
  },
  {
   "cell_type": "code",
   "execution_count": 97,
   "metadata": {},
   "outputs": [
    {
     "data": {
      "text/plain": [
       "8694.773889872782"
      ]
     },
     "execution_count": 97,
     "metadata": {},
     "output_type": "execute_result"
    }
   ],
   "source": [
    "mean_absolute_error(Salaries_Y_Test,predictions_lasso)"
   ]
  },
  {
   "cell_type": "code",
   "execution_count": 64,
   "metadata": {},
   "outputs": [
    {
     "name": "stdout",
     "output_type": "stream",
     "text": [
      "Fold 1 accuracy: 0.44299459579736256\n",
      "Fold 2 accuracy: 0.427989566244645\n",
      "Fold 3 accuracy: 0.4194247877520776\n",
      "Fold 4 accuracy: 0.44136814194997154\n",
      "Fold 5 accuracy: 0.473603222102566\n",
      "Fold 6 accuracy: 0.4623067534040888\n",
      "Fold 7 accuracy: 0.4222320269985771\n",
      "Fold 8 accuracy: 0.42294396607848816\n",
      "Fold 9 accuracy: 0.4387961583465326\n",
      "Fold 10 accuracy: 0.49254536599367027\n",
      "Mean r2: 0.444420458466798\n",
      "Standard Deviation: 0.023192383290228\n"
     ]
    }
   ],
   "source": [
    "run_kfold (reg)"
   ]
  },
  {
   "cell_type": "code",
   "execution_count": 65,
   "metadata": {
    "collapsed": true
   },
   "outputs": [],
   "source": [
    "# can see more consistent results with regularization than regular linear regression"
   ]
  },
  {
   "cell_type": "code",
   "execution_count": 82,
   "metadata": {},
   "outputs": [
    {
     "data": {
      "text/plain": [
       "[(35675.94677708074, 'nurse practitioner'),\n",
       " (20206.81963179331, 'intensive care'),\n",
       " (17277.39673877329, 'Category_Energy, Oil & Gas Jobs'),\n",
       " (13041.531751138406, 'self employed'),\n",
       " (10898.078738181799, 'finance manager'),\n",
       " (10065.842282653497, 'social worker'),\n",
       " (10033.801785172593, 'Category_Healthcare & Nursing Jobs'),\n",
       " (9665.217110175916, 'LocationNormalized_The City'),\n",
       " (9256.45888329068, 'systems engineer'),\n",
       " (9093.641997980198, 'care assistant job')]"
      ]
     },
     "execution_count": 82,
     "metadata": {},
     "output_type": "execute_result"
    }
   ],
   "source": [
    "sorted(list(zip(reg.coef_, Salaries_X)),reverse=True)[0:10]\n",
    "#Can see that regularized coefficeints are more reasonable "
   ]
  },
  {
   "cell_type": "code",
   "execution_count": null,
   "metadata": {
    "collapsed": true
   },
   "outputs": [],
   "source": [
    "rfe_lasso = RFE(reg)\n",
    "fit_lasso = rfe_lasso.fit(Salaries_X[0:10000], Salaries_Y[0:10000]) #Sampling because of slow run time"
   ]
  },
  {
   "cell_type": "code",
   "execution_count": 84,
   "metadata": {
    "collapsed": true
   },
   "outputs": [
    {
     "data": {
      "text/plain": [
       "[(-133207206779.49579, 'LocationNormalized_Sheffield'),\n",
       " (-133207206102.71036, 'LocationNormalized_Belfast'),\n",
       " (-133207204620.18347, 'LocationNormalized_Manchester'),\n",
       " (-133207204515.2962, 'LocationNormalized_Leeds'),\n",
       " (-133207204285.05678, 'LocationNormalized_Liverpool'),\n",
       " (-133207203265.15285, 'LocationNormalized_Other'),\n",
       " (-133207202733.08762, 'LocationNormalized_Birmingham'),\n",
       " (-133207202331.39232, 'LocationNormalized_Bristol'),\n",
       " (-133207201058.79599, 'LocationNormalized_Hampshire'),\n",
       " (-133207195179.7651, 'LocationNormalized_London')]"
      ]
     },
     "execution_count": 84,
     "metadata": {},
     "output_type": "execute_result"
    }
   ],
   "source": [
    "sorted(list(zip(model_lr.coef_, Salaries_X))[0:10])"
   ]
  },
  {
   "cell_type": "markdown",
   "metadata": {},
   "source": [
    "### PCA - Example"
   ]
  },
  {
   "cell_type": "code",
   "execution_count": 236,
   "metadata": {
    "collapsed": true
   },
   "outputs": [],
   "source": [
    "# does not show any improvements - higher score with more components"
   ]
  },
  {
   "cell_type": "code",
   "execution_count": 85,
   "metadata": {},
   "outputs": [
    {
     "name": "stdout",
     "output_type": "stream",
     "text": [
      "Train r2 Score\n",
      "0.33889905686064303\n",
      "Test r2 Score\n",
      "0.32501665552061254\n"
     ]
    }
   ],
   "source": [
    "from sklearn.decomposition import PCA\n",
    "pca = PCA(n_components=150)\n",
    "pca.fit(Salaries_X)\n",
    "PCA_X = pca.transform(Salaries_X)\n",
    "PCA_X_Test = pca.transform(Salaries_X_Test)\n",
    "model_lr_pca = linear_model.LinearRegression()\n",
    "model_lr_pca.fit(PCA_X,Salaries_Y)\n",
    "\n",
    "predictions_pca_train = model_lr_pca.predict(PCA_X)\n",
    "predictions_pca_test = model_lr_pca.predict(PCA_X_Test)\n",
    "\n",
    "print (\"Train r2 Score\")\n",
    "\n",
    "print (r2_score(Salaries_Y, predictions_pca_train))  \n",
    "\n",
    "print (\"Test r2 Score\")\n",
    "\n",
    "print (r2_score(Salaries_Y_Test,predictions_pca_test))"
   ]
  },
  {
   "cell_type": "code",
   "execution_count": 87,
   "metadata": {
    "collapsed": true
   },
   "outputs": [
    {
     "data": {
      "text/plain": [
       "'\\n# thresh = require that many non-NA values\\n\\nSalaries = Salaries.dropna(thresh=len(Salaries) - 10000, axis=1) #drop columns with too many NAs\\n\\n# Drop or explore columns which have too many unique values are will be difficult to encode\\n\\nSalaries_X.drop([col for col, val in Salaries_X.nunique().iteritems() if val > 500], axis=1, inplace = True) '"
      ]
     },
     "execution_count": 87,
     "metadata": {},
     "output_type": "execute_result"
    }
   ],
   "source": [
    "#------------------------------------------------------------------------------\n",
    "#Extra for Assignment 2\n",
    "#------------------------------------------------------------------------------\n",
    "'''\n",
    "# thresh = require that many non-NA values\n",
    "\n",
    "Salaries = Salaries.dropna(thresh=len(Salaries) - 10000, axis=1) #drop columns with too many NAs\n",
    "\n",
    "# Drop or explore columns which have too many unique values are will be difficult to encode\n",
    "\n",
    "Salaries_X.drop([col for col, val in Salaries_X.nunique().iteritems() if val > 500], axis=1, inplace = True) '''"
   ]
  },
  {
   "cell_type": "markdown",
   "metadata": {},
   "source": [
    "# Neural Network"
   ]
  },
  {
   "cell_type": "markdown",
   "metadata": {},
   "source": [
    "https://scikit-learn.org/stable/modules/neural_networks_supervised.html"
   ]
  },
  {
   "cell_type": "code",
   "execution_count": 88,
   "metadata": {},
   "outputs": [
    {
     "data": {
      "text/plain": [
       "MLPRegressor(activation='relu', alpha=1e-05, batch_size='auto', beta_1=0.9,\n",
       "       beta_2=0.999, early_stopping=False, epsilon=1e-08,\n",
       "       hidden_layer_sizes=(10, 8, 4), learning_rate='constant',\n",
       "       learning_rate_init=0.001, max_iter=1000, momentum=0.9,\n",
       "       nesterovs_momentum=True, power_t=0.5, random_state=1, shuffle=True,\n",
       "       solver='lbfgs', tol=0.0001, validation_fraction=0.1, verbose=False,\n",
       "       warm_start=False)"
      ]
     },
     "execution_count": 88,
     "metadata": {},
     "output_type": "execute_result"
    }
   ],
   "source": [
    "clf = MLPRegressor(solver='lbfgs', alpha=1e-5, hidden_layer_sizes=(10,8,4), random_state=1, max_iter=1000)\n",
    "clf.fit(Salaries_X, Salaries_Y)"
   ]
  },
  {
   "cell_type": "code",
   "execution_count": 92,
   "metadata": {},
   "outputs": [
    {
     "data": {
      "text/plain": [
       "0.7666722979065587"
      ]
     },
     "execution_count": 92,
     "metadata": {},
     "output_type": "execute_result"
    }
   ],
   "source": [
    "clf.score(Salaries_X, Salaries_Y)"
   ]
  },
  {
   "cell_type": "code",
   "execution_count": 91,
   "metadata": {},
   "outputs": [
    {
     "data": {
      "text/plain": [
       "0.14664792249631842"
      ]
     },
     "execution_count": 91,
     "metadata": {},
     "output_type": "execute_result"
    }
   ],
   "source": [
    "clf.score(Salaries_X_Test, Salaries_Y_Test) #overfitting.."
   ]
  },
  {
   "cell_type": "code",
   "execution_count": 221,
   "metadata": {
    "collapsed": true
   },
   "outputs": [],
   "source": [
    "# run_kfold(clf)"
   ]
  }
 ],
 "metadata": {
  "kernelspec": {
   "display_name": "Python 3",
   "language": "python",
   "name": "python3"
  },
  "language_info": {
   "codemirror_mode": {
    "name": "ipython",
    "version": 3
   },
   "file_extension": ".py",
   "mimetype": "text/x-python",
   "name": "python",
   "nbconvert_exporter": "python",
   "pygments_lexer": "ipython3",
   "version": "3.7.0"
  }
 },
 "nbformat": 4,
 "nbformat_minor": 2
}
